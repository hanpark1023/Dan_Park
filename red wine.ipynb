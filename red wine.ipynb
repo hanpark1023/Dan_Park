{
 "cells": [
  {
   "cell_type": "code",
   "execution_count": null,
   "metadata": {},
   "outputs": [],
   "source": [
    "# Set working directory"
   ]
  },
  {
   "cell_type": "code",
   "execution_count": 13,
   "metadata": {},
   "outputs": [],
   "source": [
    "setwd(\"C:/Users/")"
   ]
  },
  {
   "cell_type": "code",
   "execution_count": null,
   "metadata": {},
   "outputs": [],
   "source": [
    "# Read data set(CSV file from Kaggle)"
   ]
  },
  {
   "cell_type": "code",
   "execution_count": 14,
   "metadata": {},
   "outputs": [],
   "source": [
    "wine <- read.csv(file = \"winequality-red.csv\", header = TRUE)"
   ]
  },
  {
   "cell_type": "code",
   "execution_count": null,
   "metadata": {},
   "outputs": [],
   "source": [
    "# Check data "
   ]
  },
  {
   "cell_type": "code",
   "execution_count": 15,
   "metadata": {},
   "outputs": [
    {
     "data": {
      "text/html": [
       "<table>\n",
       "<thead><tr><th scope=col>fixedAcidity</th><th scope=col>volatileAcidity</th><th scope=col>citricAcid</th><th scope=col>residualSugar</th><th scope=col>chlorides</th><th scope=col>freeSulfurDioxide</th><th scope=col>totalSulfurDioxide</th><th scope=col>density</th><th scope=col>pH</th><th scope=col>sulphates</th><th scope=col>alcohol</th><th scope=col>quality</th></tr></thead>\n",
       "<tbody>\n",
       "\t<tr><td> 7.4  </td><td>0.70  </td><td>0.00  </td><td>1.9   </td><td>0.076 </td><td>11    </td><td>34    </td><td>0.9978</td><td>3.51  </td><td>0.56  </td><td>9.4   </td><td>5     </td></tr>\n",
       "\t<tr><td> 7.8  </td><td>0.88  </td><td>0.00  </td><td>2.6   </td><td>0.098 </td><td>25    </td><td>67    </td><td>0.9968</td><td>3.20  </td><td>0.68  </td><td>9.8   </td><td>5     </td></tr>\n",
       "\t<tr><td> 7.8  </td><td>0.76  </td><td>0.04  </td><td>2.3   </td><td>0.092 </td><td>15    </td><td>54    </td><td>0.9970</td><td>3.26  </td><td>0.65  </td><td>9.8   </td><td>5     </td></tr>\n",
       "\t<tr><td>11.2  </td><td>0.28  </td><td>0.56  </td><td>1.9   </td><td>0.075 </td><td>17    </td><td>60    </td><td>0.9980</td><td>3.16  </td><td>0.58  </td><td>9.8   </td><td>6     </td></tr>\n",
       "\t<tr><td> 7.4  </td><td>0.70  </td><td>0.00  </td><td>1.9   </td><td>0.076 </td><td>11    </td><td>34    </td><td>0.9978</td><td>3.51  </td><td>0.56  </td><td>9.4   </td><td>5     </td></tr>\n",
       "\t<tr><td> 7.4  </td><td>0.66  </td><td>0.00  </td><td>1.8   </td><td>0.075 </td><td>13    </td><td>40    </td><td>0.9978</td><td>3.51  </td><td>0.56  </td><td>9.4   </td><td>5     </td></tr>\n",
       "</tbody>\n",
       "</table>\n"
      ],
      "text/latex": [
       "\\begin{tabular}{r|llllllllllll}\n",
       " fixedAcidity & volatileAcidity & citricAcid & residualSugar & chlorides & freeSulfurDioxide & totalSulfurDioxide & density & pH & sulphates & alcohol & quality\\\\\n",
       "\\hline\n",
       "\t  7.4   & 0.70   & 0.00   & 1.9    & 0.076  & 11     & 34     & 0.9978 & 3.51   & 0.56   & 9.4    & 5     \\\\\n",
       "\t  7.8   & 0.88   & 0.00   & 2.6    & 0.098  & 25     & 67     & 0.9968 & 3.20   & 0.68   & 9.8    & 5     \\\\\n",
       "\t  7.8   & 0.76   & 0.04   & 2.3    & 0.092  & 15     & 54     & 0.9970 & 3.26   & 0.65   & 9.8    & 5     \\\\\n",
       "\t 11.2   & 0.28   & 0.56   & 1.9    & 0.075  & 17     & 60     & 0.9980 & 3.16   & 0.58   & 9.8    & 6     \\\\\n",
       "\t  7.4   & 0.70   & 0.00   & 1.9    & 0.076  & 11     & 34     & 0.9978 & 3.51   & 0.56   & 9.4    & 5     \\\\\n",
       "\t  7.4   & 0.66   & 0.00   & 1.8    & 0.075  & 13     & 40     & 0.9978 & 3.51   & 0.56   & 9.4    & 5     \\\\\n",
       "\\end{tabular}\n"
      ],
      "text/markdown": [
       "\n",
       "fixedAcidity | volatileAcidity | citricAcid | residualSugar | chlorides | freeSulfurDioxide | totalSulfurDioxide | density | pH | sulphates | alcohol | quality | \n",
       "|---|---|---|---|---|---|\n",
       "|  7.4   | 0.70   | 0.00   | 1.9    | 0.076  | 11     | 34     | 0.9978 | 3.51   | 0.56   | 9.4    | 5      | \n",
       "|  7.8   | 0.88   | 0.00   | 2.6    | 0.098  | 25     | 67     | 0.9968 | 3.20   | 0.68   | 9.8    | 5      | \n",
       "|  7.8   | 0.76   | 0.04   | 2.3    | 0.092  | 15     | 54     | 0.9970 | 3.26   | 0.65   | 9.8    | 5      | \n",
       "| 11.2   | 0.28   | 0.56   | 1.9    | 0.075  | 17     | 60     | 0.9980 | 3.16   | 0.58   | 9.8    | 6      | \n",
       "|  7.4   | 0.70   | 0.00   | 1.9    | 0.076  | 11     | 34     | 0.9978 | 3.51   | 0.56   | 9.4    | 5      | \n",
       "|  7.4   | 0.66   | 0.00   | 1.8    | 0.075  | 13     | 40     | 0.9978 | 3.51   | 0.56   | 9.4    | 5      | \n",
       "\n",
       "\n"
      ],
      "text/plain": [
       "  fixedAcidity volatileAcidity citricAcid residualSugar chlorides\n",
       "1  7.4         0.70            0.00       1.9           0.076    \n",
       "2  7.8         0.88            0.00       2.6           0.098    \n",
       "3  7.8         0.76            0.04       2.3           0.092    \n",
       "4 11.2         0.28            0.56       1.9           0.075    \n",
       "5  7.4         0.70            0.00       1.9           0.076    \n",
       "6  7.4         0.66            0.00       1.8           0.075    \n",
       "  freeSulfurDioxide totalSulfurDioxide density pH   sulphates alcohol quality\n",
       "1 11                34                 0.9978  3.51 0.56      9.4     5      \n",
       "2 25                67                 0.9968  3.20 0.68      9.8     5      \n",
       "3 15                54                 0.9970  3.26 0.65      9.8     5      \n",
       "4 17                60                 0.9980  3.16 0.58      9.8     6      \n",
       "5 11                34                 0.9978  3.51 0.56      9.4     5      \n",
       "6 13                40                 0.9978  3.51 0.56      9.4     5      "
      ]
     },
     "metadata": {},
     "output_type": "display_data"
    }
   ],
   "source": [
    "head(wine)"
   ]
  },
  {
   "cell_type": "code",
   "execution_count": 7,
   "metadata": {},
   "outputs": [
    {
     "data": {
      "text/plain": [
       "  fixedAcidity   volatileAcidity    citricAcid    residualSugar   \n",
       " Min.   : 4.60   Min.   :0.1200   Min.   :0.000   Min.   : 0.900  \n",
       " 1st Qu.: 7.10   1st Qu.:0.3900   1st Qu.:0.090   1st Qu.: 1.900  \n",
       " Median : 7.90   Median :0.5200   Median :0.260   Median : 2.200  \n",
       " Mean   : 8.32   Mean   :0.5278   Mean   :0.271   Mean   : 2.539  \n",
       " 3rd Qu.: 9.20   3rd Qu.:0.6400   3rd Qu.:0.420   3rd Qu.: 2.600  \n",
       " Max.   :15.90   Max.   :1.5800   Max.   :1.000   Max.   :15.500  \n",
       "   chlorides       freeSulfurDioxide totalSulfurDioxide    density      \n",
       " Min.   :0.01200   Min.   : 1.00     Min.   :  6.00     Min.   :0.9901  \n",
       " 1st Qu.:0.07000   1st Qu.: 7.00     1st Qu.: 22.00     1st Qu.:0.9956  \n",
       " Median :0.07900   Median :14.00     Median : 38.00     Median :0.9968  \n",
       " Mean   :0.08747   Mean   :15.87     Mean   : 46.47     Mean   :0.9967  \n",
       " 3rd Qu.:0.09000   3rd Qu.:21.00     3rd Qu.: 62.00     3rd Qu.:0.9978  \n",
       " Max.   :0.61100   Max.   :72.00     Max.   :289.00     Max.   :1.0037  \n",
       "       pH          sulphates         alcohol         quality     \n",
       " Min.   :2.740   Min.   :0.3300   Min.   : 8.40   Min.   :3.000  \n",
       " 1st Qu.:3.210   1st Qu.:0.5500   1st Qu.: 9.50   1st Qu.:5.000  \n",
       " Median :3.310   Median :0.6200   Median :10.20   Median :6.000  \n",
       " Mean   :3.311   Mean   :0.6581   Mean   :10.42   Mean   :5.636  \n",
       " 3rd Qu.:3.400   3rd Qu.:0.7300   3rd Qu.:11.10   3rd Qu.:6.000  \n",
       " Max.   :4.010   Max.   :2.0000   Max.   :14.90   Max.   :8.000  "
      ]
     },
     "metadata": {},
     "output_type": "display_data"
    }
   ],
   "source": [
    "summary(wine)"
   ]
  },
  {
   "cell_type": "code",
   "execution_count": null,
   "metadata": {},
   "outputs": [],
   "source": [
    "# Run the linear regression model using lm"
   ]
  },
  {
   "cell_type": "code",
   "execution_count": 18,
   "metadata": {},
   "outputs": [],
   "source": [
    "model1 <- lm(quality ~ fixedAcidity + volatileAcidity + citricAcid + residualSugar + chlorides \n",
    "             + freeSulfurDioxide + totalSulfurDioxide + density + pH + sulphates + alcohol, data = wine)"
   ]
  },
  {
   "cell_type": "code",
   "execution_count": null,
   "metadata": {},
   "outputs": [],
   "source": [
    "# Confirm the result "
   ]
  },
  {
   "cell_type": "code",
   "execution_count": 19,
   "metadata": {
    "scrolled": false
   },
   "outputs": [
    {
     "data": {
      "text/plain": [
       "\n",
       "Call:\n",
       "lm(formula = quality ~ fixedAcidity + volatileAcidity + citricAcid + \n",
       "    residualSugar + chlorides + freeSulfurDioxide + totalSulfurDioxide + \n",
       "    density + pH + sulphates + alcohol, data = wine)\n",
       "\n",
       "Residuals:\n",
       "     Min       1Q   Median       3Q      Max \n",
       "-2.68911 -0.36652 -0.04699  0.45202  2.02498 \n",
       "\n",
       "Coefficients:\n",
       "                     Estimate Std. Error t value Pr(>|t|)    \n",
       "(Intercept)         2.197e+01  2.119e+01   1.036   0.3002    \n",
       "fixedAcidity        2.499e-02  2.595e-02   0.963   0.3357    \n",
       "volatileAcidity    -1.084e+00  1.211e-01  -8.948  < 2e-16 ***\n",
       "citricAcid         -1.826e-01  1.472e-01  -1.240   0.2150    \n",
       "residualSugar       1.633e-02  1.500e-02   1.089   0.2765    \n",
       "chlorides          -1.874e+00  4.193e-01  -4.470 8.37e-06 ***\n",
       "freeSulfurDioxide   4.361e-03  2.171e-03   2.009   0.0447 *  \n",
       "totalSulfurDioxide -3.265e-03  7.287e-04  -4.480 8.00e-06 ***\n",
       "density            -1.788e+01  2.163e+01  -0.827   0.4086    \n",
       "pH                 -4.137e-01  1.916e-01  -2.159   0.0310 *  \n",
       "sulphates           9.163e-01  1.143e-01   8.014 2.13e-15 ***\n",
       "alcohol             2.762e-01  2.648e-02  10.429  < 2e-16 ***\n",
       "---\n",
       "Signif. codes:  0 '***' 0.001 '**' 0.01 '*' 0.05 '.' 0.1 ' ' 1\n",
       "\n",
       "Residual standard error: 0.648 on 1587 degrees of freedom\n",
       "Multiple R-squared:  0.3606,\tAdjusted R-squared:  0.3561 \n",
       "F-statistic: 81.35 on 11 and 1587 DF,  p-value: < 2.2e-16\n"
      ]
     },
     "metadata": {},
     "output_type": "display_data"
    }
   ],
   "source": [
    "summary(model1)"
   ]
  },
  {
   "cell_type": "code",
   "execution_count": null,
   "metadata": {},
   "outputs": [],
   "source": [
    "# As the data is a cross-sectional data, to do corrected significance tests\n",
    "# call these libraries "
   ]
  },
  {
   "cell_type": "code",
   "execution_count": 16,
   "metadata": {},
   "outputs": [
    {
     "name": "stderr",
     "output_type": "stream",
     "text": [
      "Loading required package: zoo\n",
      "\n",
      "Attaching package: 'zoo'\n",
      "\n",
      "The following objects are masked from 'package:base':\n",
      "\n",
      "    as.Date, as.Date.numeric\n",
      "\n"
     ]
    }
   ],
   "source": [
    "library(sandwich)\n",
    "library(lmtest)"
   ]
  },
  {
   "cell_type": "code",
   "execution_count": null,
   "metadata": {},
   "outputs": [],
   "source": [
    "# Do the coeftest"
   ]
  },
  {
   "cell_type": "code",
   "execution_count": 20,
   "metadata": {},
   "outputs": [
    {
     "data": {
      "text/plain": [
       "\n",
       "t test of coefficients:\n",
       "\n",
       "                      Estimate  Std. Error t value  Pr(>|t|)    \n",
       "(Intercept)         2.1965e+01  2.4717e+01  0.8887  0.374313    \n",
       "fixedAcidity        2.4991e-02  3.2706e-02  0.7641  0.444927    \n",
       "volatileAcidity    -1.0836e+00  1.3800e-01 -7.8520 7.479e-15 ***\n",
       "citricAcid         -1.8256e-01  1.5409e-01 -1.1848  0.236266    \n",
       "residualSugar       1.6331e-02  1.9526e-02  0.8364  0.403052    \n",
       "chlorides          -1.8742e+00  4.8979e-01 -3.8266  0.000135 ***\n",
       "freeSulfurDioxide   4.3613e-03  2.2685e-03  1.9226  0.054715 .  \n",
       "totalSulfurDioxide -3.2646e-03  7.6849e-04 -4.2480 2.282e-05 ***\n",
       "density            -1.7881e+01  2.5292e+01 -0.7070  0.479670    \n",
       "pH                 -4.1365e-01  2.1539e-01 -1.9205  0.054973 .  \n",
       "sulphates           9.1633e-01  1.3679e-01  6.6988 2.908e-11 ***\n",
       "alcohol             2.7620e-01  2.9251e-02  9.4425 < 2.2e-16 ***\n",
       "---\n",
       "Signif. codes:  0 '***' 0.001 '**' 0.01 '*' 0.05 '.' 0.1 ' ' 1\n"
      ]
     },
     "metadata": {},
     "output_type": "display_data"
    }
   ],
   "source": [
    "coeftest(model1,vcov.=vcovHC)"
   ]
  },
  {
   "cell_type": "code",
   "execution_count": null,
   "metadata": {},
   "outputs": [],
   "source": [
    "# In this data set, I can notice that volatile Acidity, chlorides, total Sulfur Dicxide, sulphates, and alcohol are\n",
    "# significant variables.\n",
    "\n",
    "# Among these variables, sulphates and alcohol have a positive impact on red wine quality. For example, every one increase in\n",
    "# wine alcohol is associated with 2.7620e-01 increase in wine quality controlling for other variables."
   ]
  },
  {
   "cell_type": "code",
   "execution_count": null,
   "metadata": {},
   "outputs": [],
   "source": [
    "# As a company which sales wine, it is better to get the wine which has higher sulphates and alcohol and lower volatile acidity,\n",
    "# chlorides, and total sulfur diocide."
   ]
  }
 ],
 "metadata": {
  "kernelspec": {
   "display_name": "R3.4.1",
   "language": "R",
   "name": "ir341"
  },
  "language_info": {
   "codemirror_mode": "r",
   "file_extension": ".r",
   "mimetype": "text/x-r-source",
   "name": "R",
   "pygments_lexer": "r",
   "version": "3.4.0"
  }
 },
 "nbformat": 4,
 "nbformat_minor": 2
}
