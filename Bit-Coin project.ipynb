{
 "cells": [
  {
   "cell_type": "markdown",
   "metadata": {},
   "source": [
    "# The prime time to bet on Bit-coin"
   ]
  },
  {
   "cell_type": "markdown",
   "metadata": {},
   "source": [
    "# Read data"
   ]
  },
  {
   "cell_type": "code",
   "execution_count": 1,
   "metadata": {},
   "outputs": [],
   "source": [
    "import pandas as pd\n",
    "import matplotlib.pyplot as plt\n",
    "import numpy as np\n",
    "\n",
    "data = pd.read_csv('bitcoin_dataset.csv')\n",
    "test = pd.read_csv('test_set.csv')"
   ]
  },
  {
   "cell_type": "markdown",
   "metadata": {},
   "source": [
    "# Check the data"
   ]
  },
  {
   "cell_type": "code",
   "execution_count": 2,
   "metadata": {},
   "outputs": [
    {
     "data": {
      "text/html": [
       "<div>\n",
       "<style scoped>\n",
       "    .dataframe tbody tr th:only-of-type {\n",
       "        vertical-align: middle;\n",
       "    }\n",
       "\n",
       "    .dataframe tbody tr th {\n",
       "        vertical-align: top;\n",
       "    }\n",
       "\n",
       "    .dataframe thead th {\n",
       "        text-align: right;\n",
       "    }\n",
       "</style>\n",
       "<table border=\"1\" class=\"dataframe\">\n",
       "  <thead>\n",
       "    <tr style=\"text-align: right;\">\n",
       "      <th></th>\n",
       "      <th>Date</th>\n",
       "      <th>btc_market_price</th>\n",
       "      <th>btc_total_bitcoins</th>\n",
       "      <th>btc_market_cap</th>\n",
       "      <th>btc_trade_volume</th>\n",
       "      <th>btc_blocks_size</th>\n",
       "      <th>btc_avg_block_size</th>\n",
       "      <th>btc_n_orphaned_blocks</th>\n",
       "      <th>btc_n_transactions_per_block</th>\n",
       "      <th>btc_median_confirmation_time</th>\n",
       "      <th>...</th>\n",
       "      <th>btc_cost_per_transaction_percent</th>\n",
       "      <th>btc_cost_per_transaction</th>\n",
       "      <th>btc_n_unique_addresses</th>\n",
       "      <th>btc_n_transactions</th>\n",
       "      <th>btc_n_transactions_total</th>\n",
       "      <th>btc_n_transactions_excluding_popular</th>\n",
       "      <th>btc_n_transactions_excluding_chains_longer_than_100</th>\n",
       "      <th>btc_output_volume</th>\n",
       "      <th>btc_estimated_transaction_volume</th>\n",
       "      <th>btc_estimated_transaction_volume_usd</th>\n",
       "    </tr>\n",
       "  </thead>\n",
       "  <tbody>\n",
       "    <tr>\n",
       "      <th>0</th>\n",
       "      <td>2/17/2010 0:00</td>\n",
       "      <td>0.0</td>\n",
       "      <td>2043200.0</td>\n",
       "      <td>0.0</td>\n",
       "      <td>0.0</td>\n",
       "      <td>0.0</td>\n",
       "      <td>0.000235</td>\n",
       "      <td>0</td>\n",
       "      <td>1.0</td>\n",
       "      <td>0.0</td>\n",
       "      <td>...</td>\n",
       "      <td>31.781022</td>\n",
       "      <td>0.0</td>\n",
       "      <td>241</td>\n",
       "      <td>244</td>\n",
       "      <td>41240</td>\n",
       "      <td>244</td>\n",
       "      <td>244</td>\n",
       "      <td>65173.13</td>\n",
       "      <td>36500.0</td>\n",
       "      <td>0.0</td>\n",
       "    </tr>\n",
       "    <tr>\n",
       "      <th>1</th>\n",
       "      <td>2/18/2010 0:00</td>\n",
       "      <td>0.0</td>\n",
       "      <td>2054650.0</td>\n",
       "      <td>0.0</td>\n",
       "      <td>0.0</td>\n",
       "      <td>0.0</td>\n",
       "      <td>0.000241</td>\n",
       "      <td>0</td>\n",
       "      <td>1.0</td>\n",
       "      <td>0.0</td>\n",
       "      <td>...</td>\n",
       "      <td>154.463801</td>\n",
       "      <td>0.0</td>\n",
       "      <td>234</td>\n",
       "      <td>235</td>\n",
       "      <td>41475</td>\n",
       "      <td>235</td>\n",
       "      <td>235</td>\n",
       "      <td>18911.74</td>\n",
       "      <td>7413.0</td>\n",
       "      <td>0.0</td>\n",
       "    </tr>\n",
       "    <tr>\n",
       "      <th>2</th>\n",
       "      <td>2/19/2010 0:00</td>\n",
       "      <td>0.0</td>\n",
       "      <td>2063600.0</td>\n",
       "      <td>0.0</td>\n",
       "      <td>0.0</td>\n",
       "      <td>0.0</td>\n",
       "      <td>0.000228</td>\n",
       "      <td>0</td>\n",
       "      <td>1.0</td>\n",
       "      <td>0.0</td>\n",
       "      <td>...</td>\n",
       "      <td>1278.516635</td>\n",
       "      <td>0.0</td>\n",
       "      <td>185</td>\n",
       "      <td>183</td>\n",
       "      <td>41658</td>\n",
       "      <td>183</td>\n",
       "      <td>183</td>\n",
       "      <td>9749.98</td>\n",
       "      <td>700.0</td>\n",
       "      <td>0.0</td>\n",
       "    </tr>\n",
       "    <tr>\n",
       "      <th>3</th>\n",
       "      <td>2/20/2010 0:00</td>\n",
       "      <td>0.0</td>\n",
       "      <td>2074700.0</td>\n",
       "      <td>0.0</td>\n",
       "      <td>0.0</td>\n",
       "      <td>0.0</td>\n",
       "      <td>0.000218</td>\n",
       "      <td>0</td>\n",
       "      <td>1.0</td>\n",
       "      <td>0.0</td>\n",
       "      <td>...</td>\n",
       "      <td>22186.687990</td>\n",
       "      <td>0.0</td>\n",
       "      <td>224</td>\n",
       "      <td>224</td>\n",
       "      <td>41882</td>\n",
       "      <td>224</td>\n",
       "      <td>224</td>\n",
       "      <td>11150.03</td>\n",
       "      <td>50.0</td>\n",
       "      <td>0.0</td>\n",
       "    </tr>\n",
       "    <tr>\n",
       "      <th>4</th>\n",
       "      <td>2/21/2010 0:00</td>\n",
       "      <td>0.0</td>\n",
       "      <td>2085400.0</td>\n",
       "      <td>0.0</td>\n",
       "      <td>0.0</td>\n",
       "      <td>0.0</td>\n",
       "      <td>0.000234</td>\n",
       "      <td>0</td>\n",
       "      <td>1.0</td>\n",
       "      <td>0.0</td>\n",
       "      <td>...</td>\n",
       "      <td>689.179876</td>\n",
       "      <td>0.0</td>\n",
       "      <td>218</td>\n",
       "      <td>218</td>\n",
       "      <td>42100</td>\n",
       "      <td>218</td>\n",
       "      <td>218</td>\n",
       "      <td>12266.83</td>\n",
       "      <td>1553.0</td>\n",
       "      <td>0.0</td>\n",
       "    </tr>\n",
       "  </tbody>\n",
       "</table>\n",
       "<p>5 rows × 24 columns</p>\n",
       "</div>"
      ],
      "text/plain": [
       "             Date  btc_market_price  btc_total_bitcoins  btc_market_cap  \\\n",
       "0  2/17/2010 0:00               0.0           2043200.0             0.0   \n",
       "1  2/18/2010 0:00               0.0           2054650.0             0.0   \n",
       "2  2/19/2010 0:00               0.0           2063600.0             0.0   \n",
       "3  2/20/2010 0:00               0.0           2074700.0             0.0   \n",
       "4  2/21/2010 0:00               0.0           2085400.0             0.0   \n",
       "\n",
       "   btc_trade_volume  btc_blocks_size  btc_avg_block_size  \\\n",
       "0               0.0              0.0            0.000235   \n",
       "1               0.0              0.0            0.000241   \n",
       "2               0.0              0.0            0.000228   \n",
       "3               0.0              0.0            0.000218   \n",
       "4               0.0              0.0            0.000234   \n",
       "\n",
       "   btc_n_orphaned_blocks  btc_n_transactions_per_block  \\\n",
       "0                      0                           1.0   \n",
       "1                      0                           1.0   \n",
       "2                      0                           1.0   \n",
       "3                      0                           1.0   \n",
       "4                      0                           1.0   \n",
       "\n",
       "   btc_median_confirmation_time                  ...                   \\\n",
       "0                           0.0                  ...                    \n",
       "1                           0.0                  ...                    \n",
       "2                           0.0                  ...                    \n",
       "3                           0.0                  ...                    \n",
       "4                           0.0                  ...                    \n",
       "\n",
       "   btc_cost_per_transaction_percent  btc_cost_per_transaction  \\\n",
       "0                         31.781022                       0.0   \n",
       "1                        154.463801                       0.0   \n",
       "2                       1278.516635                       0.0   \n",
       "3                      22186.687990                       0.0   \n",
       "4                        689.179876                       0.0   \n",
       "\n",
       "   btc_n_unique_addresses  btc_n_transactions  btc_n_transactions_total  \\\n",
       "0                     241                 244                     41240   \n",
       "1                     234                 235                     41475   \n",
       "2                     185                 183                     41658   \n",
       "3                     224                 224                     41882   \n",
       "4                     218                 218                     42100   \n",
       "\n",
       "   btc_n_transactions_excluding_popular  \\\n",
       "0                                   244   \n",
       "1                                   235   \n",
       "2                                   183   \n",
       "3                                   224   \n",
       "4                                   218   \n",
       "\n",
       "   btc_n_transactions_excluding_chains_longer_than_100  btc_output_volume  \\\n",
       "0                                                244             65173.13   \n",
       "1                                                235             18911.74   \n",
       "2                                                183              9749.98   \n",
       "3                                                224             11150.03   \n",
       "4                                                218             12266.83   \n",
       "\n",
       "   btc_estimated_transaction_volume  btc_estimated_transaction_volume_usd  \n",
       "0                           36500.0                                   0.0  \n",
       "1                            7413.0                                   0.0  \n",
       "2                             700.0                                   0.0  \n",
       "3                              50.0                                   0.0  \n",
       "4                            1553.0                                   0.0  \n",
       "\n",
       "[5 rows x 24 columns]"
      ]
     },
     "execution_count": 2,
     "metadata": {},
     "output_type": "execute_result"
    }
   ],
   "source": [
    "data.head()"
   ]
  },
  {
   "cell_type": "code",
   "execution_count": 3,
   "metadata": {},
   "outputs": [
    {
     "data": {
      "text/plain": [
       "(2906, 24)"
      ]
     },
     "execution_count": 3,
     "metadata": {},
     "output_type": "execute_result"
    }
   ],
   "source": [
    "data.shape"
   ]
  },
  {
   "cell_type": "code",
   "execution_count": 49,
   "metadata": {},
   "outputs": [
    {
     "data": {
      "text/plain": [
       "Index(['Date', 'btc_market_price', 'btc_total_bitcoins', 'btc_market_cap',\n",
       "       'btc_trade_volume', 'btc_blocks_size', 'btc_avg_block_size',\n",
       "       'btc_n_orphaned_blocks', 'btc_n_transactions_per_block',\n",
       "       'btc_median_confirmation_time', 'btc_hash_rate', 'btc_difficulty',\n",
       "       'btc_miners_revenue', 'btc_transaction_fees',\n",
       "       'btc_cost_per_transaction_percent', 'btc_cost_per_transaction',\n",
       "       'btc_n_unique_addresses', 'btc_n_transactions',\n",
       "       'btc_n_transactions_total', 'btc_n_transactions_excluding_popular',\n",
       "       'btc_n_transactions_excluding_chains_longer_than_100',\n",
       "       'btc_output_volume', 'btc_estimated_transaction_volume',\n",
       "       'btc_estimated_transaction_volume_usd'],\n",
       "      dtype='object')"
      ]
     },
     "execution_count": 49,
     "metadata": {},
     "output_type": "execute_result"
    }
   ],
   "source": [
    "data.columns"
   ]
  },
  {
   "cell_type": "code",
   "execution_count": 6,
   "metadata": {},
   "outputs": [
    {
     "name": "stdout",
     "output_type": "stream",
     "text": [
      "<class 'pandas.core.frame.DataFrame'>\n",
      "RangeIndex: 2906 entries, 0 to 2905\n",
      "Data columns (total 24 columns):\n",
      "Date                                                   2906 non-null object\n",
      "btc_market_price                                       2906 non-null float64\n",
      "btc_total_bitcoins                                     2879 non-null float64\n",
      "btc_market_cap                                         2906 non-null float64\n",
      "btc_trade_volume                                       2885 non-null float64\n",
      "btc_blocks_size                                        2877 non-null float64\n",
      "btc_avg_block_size                                     2906 non-null float64\n",
      "btc_n_orphaned_blocks                                  2906 non-null int64\n",
      "btc_n_transactions_per_block                           2906 non-null float64\n",
      "btc_median_confirmation_time                           2894 non-null float64\n",
      "btc_hash_rate                                          2906 non-null float64\n",
      "btc_difficulty                                         2890 non-null float64\n",
      "btc_miners_revenue                                     2906 non-null float64\n",
      "btc_transaction_fees                                   2896 non-null float64\n",
      "btc_cost_per_transaction_percent                       2906 non-null float64\n",
      "btc_cost_per_transaction                               2906 non-null float64\n",
      "btc_n_unique_addresses                                 2906 non-null int64\n",
      "btc_n_transactions                                     2906 non-null int64\n",
      "btc_n_transactions_total                               2906 non-null int64\n",
      "btc_n_transactions_excluding_popular                   2906 non-null int64\n",
      "btc_n_transactions_excluding_chains_longer_than_100    2906 non-null int64\n",
      "btc_output_volume                                      2906 non-null float64\n",
      "btc_estimated_transaction_volume                       2906 non-null float64\n",
      "btc_estimated_transaction_volume_usd                   2906 non-null float64\n",
      "dtypes: float64(17), int64(6), object(1)\n",
      "memory usage: 545.0+ KB\n"
     ]
    }
   ],
   "source": [
    "data.info()"
   ]
  },
  {
   "cell_type": "code",
   "execution_count": 8,
   "metadata": {},
   "outputs": [
    {
     "name": "stdout",
     "output_type": "stream",
     "text": [
      "<class 'pandas.core.frame.DataFrame'>\n",
      "RangeIndex: 14 entries, 0 to 13\n",
      "Data columns (total 23 columns):\n",
      "Date                                                   14 non-null object\n",
      "btc_total_bitcoins                                     14 non-null float64\n",
      "btc_market_cap                                         14 non-null float64\n",
      "btc_trade_volume                                       14 non-null float64\n",
      "btc_blocks_size                                        14 non-null float64\n",
      "btc_avg_block_size                                     14 non-null float64\n",
      "btc_n_orphaned_blocks                                  14 non-null int64\n",
      "btc_n_transactions_per_block                           14 non-null float64\n",
      "btc_median_confirmation_time                           14 non-null float64\n",
      "btc_hash_rate                                          14 non-null float64\n",
      "btc_difficulty                                         14 non-null float64\n",
      "btc_miners_revenue                                     14 non-null float64\n",
      "btc_transaction_fees                                   14 non-null float64\n",
      "btc_cost_per_transaction_percent                       14 non-null float64\n",
      "btc_cost_per_transaction                               14 non-null float64\n",
      "btc_n_unique_addresses                                 14 non-null int64\n",
      "btc_n_transactions                                     14 non-null int64\n",
      "btc_n_transactions_total                               14 non-null int64\n",
      "btc_n_transactions_excluding_popular                   14 non-null int64\n",
      "btc_n_transactions_excluding_chains_longer_than_100    14 non-null int64\n",
      "btc_output_volume                                      14 non-null float64\n",
      "btc_estimated_transaction_volume                       14 non-null float64\n",
      "btc_estimated_transaction_volume_usd                   14 non-null float64\n",
      "dtypes: float64(16), int64(6), object(1)\n",
      "memory usage: 2.6+ KB\n"
     ]
    }
   ],
   "source": [
    "test.info()"
   ]
  },
  {
   "cell_type": "code",
   "execution_count": 9,
   "metadata": {},
   "outputs": [
    {
     "data": {
      "text/plain": [
       "<bound method NDFrame.describe of                 Date  btc_market_price  btc_total_bitcoins  btc_market_cap  \\\n",
       "0     2/17/2010 0:00           0.00000           2043200.0    0.000000e+00   \n",
       "1     2/18/2010 0:00           0.00000           2054650.0    0.000000e+00   \n",
       "2     2/19/2010 0:00           0.00000           2063600.0    0.000000e+00   \n",
       "3     2/20/2010 0:00           0.00000           2074700.0    0.000000e+00   \n",
       "4     2/21/2010 0:00           0.00000           2085400.0    0.000000e+00   \n",
       "5     2/22/2010 0:00           0.00000           2098150.0    0.000000e+00   \n",
       "6     2/23/2010 0:00           0.00000           2110700.0    0.000000e+00   \n",
       "7     2/24/2010 0:00           0.00000           2120200.0    0.000000e+00   \n",
       "8     2/25/2010 0:00           0.00000           2127600.0    0.000000e+00   \n",
       "9     2/26/2010 0:00           0.00000           2136100.0    0.000000e+00   \n",
       "10    2/27/2010 0:00           0.00000           2144750.0    0.000000e+00   \n",
       "11    2/28/2010 0:00           0.00000           2152850.0    0.000000e+00   \n",
       "12     3/1/2010 0:00           0.00000           2162150.0    0.000000e+00   \n",
       "13     3/2/2010 0:00           0.00000           2171950.0    0.000000e+00   \n",
       "14     3/3/2010 0:00           0.00000           2179350.0    0.000000e+00   \n",
       "15     3/4/2010 0:00           0.00000           2188450.0    0.000000e+00   \n",
       "16     3/5/2010 0:00           0.00000           2197200.0    0.000000e+00   \n",
       "17     3/6/2010 0:00           0.00000           2206350.0    0.000000e+00   \n",
       "18     3/7/2010 0:00           0.00000           2215000.0    0.000000e+00   \n",
       "19     3/8/2010 0:00           0.00000           2221800.0    0.000000e+00   \n",
       "20     3/9/2010 0:00           0.00000           2229200.0    0.000000e+00   \n",
       "21    3/10/2010 0:00           0.00000           2236650.0    0.000000e+00   \n",
       "22    3/11/2010 0:00           0.00000           2243950.0    0.000000e+00   \n",
       "23    3/12/2010 0:00           0.00000           2249850.0    0.000000e+00   \n",
       "24    3/13/2010 0:00           0.00000           2257750.0    0.000000e+00   \n",
       "25    3/14/2010 0:00           0.00000           2264000.0    0.000000e+00   \n",
       "26    3/15/2010 0:00           0.00000           2270200.0    0.000000e+00   \n",
       "27    3/16/2010 0:00           0.00000           2277000.0    0.000000e+00   \n",
       "28    3/17/2010 0:00           0.00000           2283150.0    0.000000e+00   \n",
       "29    3/18/2010 0:00           0.00000           2290950.0    0.000000e+00   \n",
       "...              ...               ...                 ...             ...   \n",
       "2876   1/2/2018 0:00       15005.85667          16778587.5    2.517770e+11   \n",
       "2877   1/3/2018 0:00       15053.26167          16780550.0    2.526020e+11   \n",
       "2878   1/4/2018 0:00       15199.35500          16782650.0    2.550850e+11   \n",
       "2879   1/5/2018 0:00       17174.12000          16784437.5    2.882580e+11   \n",
       "2880   1/6/2018 0:00       17319.19800          16786537.5    2.907290e+11   \n",
       "2881   1/7/2018 0:00       16651.47167          16788562.5    2.795540e+11   \n",
       "2882   1/8/2018 0:00       15265.90667          16790637.5    2.563240e+11   \n",
       "2883   1/9/2018 0:00       14714.25333          16792687.5    2.470920e+11   \n",
       "2884  1/10/2018 0:00       15126.39833          16794762.5    2.540440e+11   \n",
       "2885  1/11/2018 0:00       13296.79400          16797175.0    2.233490e+11   \n",
       "2886  1/12/2018 0:00       13912.88200          16799400.0    2.337280e+11   \n",
       "2887  1/13/2018 0:00       14499.77333          16801262.5    2.436140e+11   \n",
       "2888  1/14/2018 0:00       13852.92000          16803200.0    2.327730e+11   \n",
       "2889  1/15/2018 0:00       14012.19600          16805075.0    2.354760e+11   \n",
       "2890  1/16/2018 0:00       11180.99833          16807062.5    1.879200e+11   \n",
       "2891  1/17/2018 0:00       11116.94667          16809150.0    1.868660e+11   \n",
       "2892  1/18/2018 0:00       11345.42333          16811312.5    1.907310e+11   \n",
       "2893  1/19/2018 0:00       11422.44000          16813375.0    1.920500e+11   \n",
       "2894  1/20/2018 0:00       12950.79333          16815600.0    2.177750e+11   \n",
       "2895  1/21/2018 0:00       11505.22800          16817937.5    1.934940e+11   \n",
       "2896  1/22/2018 0:00       10544.59333          16820025.0    1.773600e+11   \n",
       "2897  1/23/2018 0:00       11223.06400          16822237.5    1.887970e+11   \n",
       "2898  1/24/2018 0:00       11282.25833          16824437.5    1.898180e+11   \n",
       "2899  1/25/2018 0:00       11214.44000          16826412.5    1.886990e+11   \n",
       "2900  1/26/2018 0:00       10969.81500          16828350.0    1.846040e+11   \n",
       "2901  1/27/2018 0:00       11524.77667          16830312.5    1.939660e+11   \n",
       "2902  1/28/2018 0:00       11765.71000          16832287.5    1.980440e+11   \n",
       "2903  1/29/2018 0:00       11212.65500          16834137.5    1.887550e+11   \n",
       "2904  1/30/2018 0:00       10184.06167          16836225.0    1.714610e+11   \n",
       "2905  1/31/2018 0:00       10125.01333          16837687.5    1.704820e+11   \n",
       "\n",
       "      btc_trade_volume  btc_blocks_size  btc_avg_block_size  \\\n",
       "0         0.000000e+00           0.0000            0.000235   \n",
       "1         0.000000e+00           0.0000            0.000241   \n",
       "2         0.000000e+00           0.0000            0.000228   \n",
       "3         0.000000e+00           0.0000            0.000218   \n",
       "4         0.000000e+00           0.0000            0.000234   \n",
       "5         0.000000e+00           0.0000            0.000384   \n",
       "6         0.000000e+00           0.0000            0.000216   \n",
       "7         0.000000e+00           0.0000            0.000282   \n",
       "8         0.000000e+00           0.0000            0.000227   \n",
       "9         0.000000e+00           0.0000            0.000319   \n",
       "10        0.000000e+00           0.0000            0.000223   \n",
       "11        0.000000e+00           0.0000            0.000291   \n",
       "12        0.000000e+00           0.0000            0.000228   \n",
       "13        0.000000e+00           0.0000            0.000248   \n",
       "14        0.000000e+00           0.0000            0.000220   \n",
       "15        0.000000e+00           0.0000            0.000296   \n",
       "16        0.000000e+00           0.0000            0.000466   \n",
       "17        0.000000e+00           0.0000            0.000275   \n",
       "18        0.000000e+00           0.0000            0.000295   \n",
       "19        0.000000e+00           0.0000            0.000370   \n",
       "20        0.000000e+00           0.0000            0.000277   \n",
       "21        0.000000e+00           0.0000            0.000232   \n",
       "22        0.000000e+00           0.0000            0.000288   \n",
       "23        0.000000e+00           0.0000            0.000221   \n",
       "24        0.000000e+00           0.0000            0.000244   \n",
       "25        0.000000e+00           0.0000            0.000227   \n",
       "26        0.000000e+00           0.0000            0.000224   \n",
       "27        0.000000e+00           0.0000            0.000219   \n",
       "28        0.000000e+00           0.0000            0.000259   \n",
       "29        0.000000e+00           0.0000            0.000225   \n",
       "...                ...              ...                 ...   \n",
       "2876      1.567583e+09      149454.4630            1.041368   \n",
       "2877      1.138507e+09      149621.7485            1.065513   \n",
       "2878      1.371804e+09      149800.8084            1.065833   \n",
       "2879      1.764170e+09      149953.4804            1.067636   \n",
       "2880      1.024721e+09      150130.6547            1.054609   \n",
       "2881      9.464069e+08      150300.3883            1.047738   \n",
       "2882      1.742246e+09      150474.7959            1.050648   \n",
       "2883      1.182427e+09      150647.7502            1.054599   \n",
       "2884      1.634549e+09      150823.4106            1.058195   \n",
       "2885      1.663186e+09      151027.4343            1.057117   \n",
       "2886      1.014054e+09      151215.1653            1.054669   \n",
       "2887      7.405042e+08      151366.3463            1.014638   \n",
       "2888      8.049146e+08      151529.1982            1.050658   \n",
       "2889      7.585462e+08      151688.0978            1.059330   \n",
       "2890      2.762627e+09      151855.0564            1.050054   \n",
       "2891      2.926596e+09      152032.4457            1.062211   \n",
       "2892      1.771114e+09      152214.2425            1.050849   \n",
       "2893      1.064413e+09      152387.2214            1.048357   \n",
       "2894      1.097314e+09      152584.1906            1.106569   \n",
       "2895      4.361955e+08      152785.6817            1.077493   \n",
       "2896      1.210204e+09      152966.2151            1.081038   \n",
       "2897      1.305109e+09      153155.6661            1.070345   \n",
       "2898      9.218209e+08      153343.9850            1.069994   \n",
       "2899      7.727063e+08      153519.4167            1.110327   \n",
       "2900      1.135179e+09      153681.0239            1.042627   \n",
       "2901      7.630946e+08      153844.0759            1.038548   \n",
       "2902      7.381042e+08      154006.9753            1.031009   \n",
       "2903      6.111197e+08      154157.6651            1.018174   \n",
       "2904      1.266284e+09      154322.5790            0.987509   \n",
       "2905      9.332398e+08      154444.5903            1.042831   \n",
       "\n",
       "      btc_n_orphaned_blocks  btc_n_transactions_per_block  \\\n",
       "0                         0                      1.000000   \n",
       "1                         0                      1.000000   \n",
       "2                         0                      1.000000   \n",
       "3                         0                      1.000000   \n",
       "4                         0                      1.000000   \n",
       "5                         0                      1.000000   \n",
       "6                         0                      1.000000   \n",
       "7                         0                      1.000000   \n",
       "8                         0                      1.000000   \n",
       "9                         0                      1.000000   \n",
       "10                        0                      1.000000   \n",
       "11                        0                      1.000000   \n",
       "12                        0                      1.000000   \n",
       "13                        0                      1.000000   \n",
       "14                        0                      1.000000   \n",
       "15                        0                      1.000000   \n",
       "16                        0                      1.000000   \n",
       "17                        0                      1.000000   \n",
       "18                        0                      1.000000   \n",
       "19                        0                      1.000000   \n",
       "20                        0                      1.000000   \n",
       "21                        0                      1.000000   \n",
       "22                        0                      1.000000   \n",
       "23                        0                      1.000000   \n",
       "24                        0                      1.000000   \n",
       "25                        0                      1.000000   \n",
       "26                        0                      1.000000   \n",
       "27                        0                      1.000000   \n",
       "28                        0                      1.000000   \n",
       "29                        0                      1.000000   \n",
       "...                     ...                           ...   \n",
       "2876                      0                   1994.035088   \n",
       "2877                      0                   2522.057325   \n",
       "2878                      0                   2529.809524   \n",
       "2879                      0                   2396.552448   \n",
       "2880                      0                   2135.994048   \n",
       "2881                      0                   2272.759259   \n",
       "2882                      0                   2082.361446   \n",
       "2883                      0                   2196.737805   \n",
       "2884                      0                   2092.728916   \n",
       "2885                      0                   1751.082902   \n",
       "2886                      0                   1685.904494   \n",
       "2887                      0                   1783.456376   \n",
       "2888                      0                   1516.419355   \n",
       "2889                      0                   1824.153333   \n",
       "2890                      0                   1910.220126   \n",
       "2891                      0                   1890.844311   \n",
       "2892                      0                   1788.988439   \n",
       "2893                      0                   1476.478788   \n",
       "2894                      0                   1351.747191   \n",
       "2895                      0                   1153.058824   \n",
       "2896                      0                   1470.431138   \n",
       "2897                      0                   1536.361582   \n",
       "2898                      0                   1422.857955   \n",
       "2899                      0                   1497.341772   \n",
       "2900                      0                   1422.316129   \n",
       "2901                      0                   1232.980892   \n",
       "2902                      0                   1350.924051   \n",
       "2903                      0                   1568.756757   \n",
       "2904                      0                   1416.820359   \n",
       "2905                      0                   1745.948718   \n",
       "\n",
       "      btc_median_confirmation_time                  ...                   \\\n",
       "0                         0.000000                  ...                    \n",
       "1                         0.000000                  ...                    \n",
       "2                         0.000000                  ...                    \n",
       "3                         0.000000                  ...                    \n",
       "4                         0.000000                  ...                    \n",
       "5                         0.000000                  ...                    \n",
       "6                         0.000000                  ...                    \n",
       "7                         0.000000                  ...                    \n",
       "8                         0.000000                  ...                    \n",
       "9                         0.000000                  ...                    \n",
       "10                        0.000000                  ...                    \n",
       "11                        0.000000                  ...                    \n",
       "12                        0.000000                  ...                    \n",
       "13                        0.000000                  ...                    \n",
       "14                        0.000000                  ...                    \n",
       "15                        0.000000                  ...                    \n",
       "16                        0.000000                  ...                    \n",
       "17                        0.000000                  ...                    \n",
       "18                        0.000000                  ...                    \n",
       "19                        0.000000                  ...                    \n",
       "20                        0.000000                  ...                    \n",
       "21                        0.000000                  ...                    \n",
       "22                        0.000000                  ...                    \n",
       "23                        0.000000                  ...                    \n",
       "24                        0.000000                  ...                    \n",
       "25                        0.000000                  ...                    \n",
       "26                        0.000000                  ...                    \n",
       "27                        0.000000                  ...                    \n",
       "28                        0.000000                  ...                    \n",
       "29                        0.000000                  ...                    \n",
       "...                            ...                  ...                    \n",
       "2876                      7.983333                  ...                    \n",
       "2877                      9.550000                  ...                    \n",
       "2878                     13.950000                  ...                    \n",
       "2879                      9.483333                  ...                    \n",
       "2880                      9.766667                  ...                    \n",
       "2881                     14.300000                  ...                    \n",
       "2882                     14.875000                  ...                    \n",
       "2883                     14.375000                  ...                    \n",
       "2884                     13.700000                  ...                    \n",
       "2885                     11.425000                  ...                    \n",
       "2886                      8.166667                  ...                    \n",
       "2887                      9.683333                  ...                    \n",
       "2888                      7.733333                  ...                    \n",
       "2889                      8.483333                  ...                    \n",
       "2890                     13.025000                  ...                    \n",
       "2891                     13.425000                  ...                    \n",
       "2892                      8.533333                  ...                    \n",
       "2893                     13.075000                  ...                    \n",
       "2894                      7.450000                  ...                    \n",
       "2895                     11.525000                  ...                    \n",
       "2896                     11.600000                  ...                    \n",
       "2897                      7.800000                  ...                    \n",
       "2898                     12.325000                  ...                    \n",
       "2899                     11.375000                  ...                    \n",
       "2900                     11.775000                  ...                    \n",
       "2901                     11.600000                  ...                    \n",
       "2902                     11.950000                  ...                    \n",
       "2903                     12.275000                  ...                    \n",
       "2904                     11.075000                  ...                    \n",
       "2905                     15.675000                  ...                    \n",
       "\n",
       "      btc_cost_per_transaction_percent  btc_cost_per_transaction  \\\n",
       "0                            31.781022                  0.000000   \n",
       "1                           154.463801                  0.000000   \n",
       "2                          1278.516635                  0.000000   \n",
       "3                         22186.687990                  0.000000   \n",
       "4                           689.179876                  0.000000   \n",
       "5                            65.214056                  0.000000   \n",
       "6                         25100.000000                  0.000000   \n",
       "7                           179.245283                  0.000000   \n",
       "8                          1057.142857                  0.000000   \n",
       "9                            64.582059                  0.000000   \n",
       "10                         1922.222222                  0.000000   \n",
       "11                          154.285714                  0.000000   \n",
       "12                          930.000000                  0.000000   \n",
       "13                          376.923077                  0.000000   \n",
       "14                         2960.000000                  0.000000   \n",
       "15                           88.349515                  0.000000   \n",
       "16                           45.691906                  0.000000   \n",
       "17                           38.694961                  0.000000   \n",
       "18                          114.496441                  0.000000   \n",
       "19                           75.466840                  0.000000   \n",
       "20                          185.000000                  0.000000   \n",
       "21                          551.443375                  0.000000   \n",
       "22                          167.777522                  0.000000   \n",
       "23                         2360.000000                  0.000000   \n",
       "24                          415.789474                  0.000000   \n",
       "25                          403.225806                  0.000000   \n",
       "26                        88571.428570                  0.000000   \n",
       "27                         4533.333333                  0.000000   \n",
       "28                          285.913529                  0.000000   \n",
       "29                         3250.000000                  0.000000   \n",
       "...                                ...                       ...   \n",
       "2876                          1.185870                122.635624   \n",
       "2877                          1.432448                103.108719   \n",
       "2878                          1.079246                102.933856   \n",
       "2879                          0.827695                124.724362   \n",
       "2880                          1.230609                134.871174   \n",
       "2881                          0.921737                122.611711   \n",
       "2882                          1.046518                122.310548   \n",
       "2883                          1.086841                114.458777   \n",
       "2884                          1.075518                121.715780   \n",
       "2885                          1.148395                122.358755   \n",
       "2886                          1.212459                131.790878   \n",
       "2887                          1.326114                130.462565   \n",
       "2888                          1.256204                143.148380   \n",
       "2889                          1.181556                122.141544   \n",
       "2890                          0.959737                 95.488338   \n",
       "2891                          1.094483                 97.259216   \n",
       "2892                          1.179685                103.353071   \n",
       "2893                          1.165375                119.747628   \n",
       "2894                          1.275669                142.872218   \n",
       "2895                          1.739127                143.046334   \n",
       "2896                          1.206450                103.148288   \n",
       "2897                          1.399833                103.113799   \n",
       "2898                          1.333913                111.888553   \n",
       "2899                          1.159855                104.088588   \n",
       "2900                          0.834349                106.814230   \n",
       "2901                          1.778601                126.855696   \n",
       "2902                          1.302242                117.430262   \n",
       "2903                          1.243012                 96.382352   \n",
       "2904                          1.301143                 96.749249   \n",
       "2905                          1.016284                 80.529148   \n",
       "\n",
       "      btc_n_unique_addresses  btc_n_transactions  btc_n_transactions_total  \\\n",
       "0                        241                 244                     41240   \n",
       "1                        234                 235                     41475   \n",
       "2                        185                 183                     41658   \n",
       "3                        224                 224                     41882   \n",
       "4                        218                 218                     42100   \n",
       "5                        262                 261                     42361   \n",
       "6                        252                 252                     42613   \n",
       "7                        195                 196                     42809   \n",
       "8                        150                 150                     42959   \n",
       "9                        176                 176                     43135   \n",
       "10                       176                 176                     43311   \n",
       "11                       165                 165                     43476   \n",
       "12                       187                 187                     43663   \n",
       "13                       203                 204                     43867   \n",
       "14                       150                 151                     44018   \n",
       "15                       187                 187                     44205   \n",
       "16                       178                 178                     44383   \n",
       "17                       187                 188                     44571   \n",
       "18                       177                 178                     44749   \n",
       "19                       143                 141                     44890   \n",
       "20                       149                 149                     45039   \n",
       "21                       153                 152                     45191   \n",
       "22                       155                 154                     45345   \n",
       "23                       119                 119                     45464   \n",
       "24                       160                 160                     45624   \n",
       "25                       127                 127                     45751   \n",
       "26                       131                 128                     45879   \n",
       "27                       138                 138                     46017   \n",
       "28                       127                 127                     46144   \n",
       "29                       163                 161                     46305   \n",
       "...                      ...                 ...                       ...   \n",
       "2876                  850801              340980                 288398401   \n",
       "2877                  937530              395963                 288794364   \n",
       "2878                 1054711              425008                 289219372   \n",
       "2879                  888402              342707                 289562079   \n",
       "2880                  889098              358847                 289920926   \n",
       "2881                  910004              368187                 290289113   \n",
       "2882                  895996              345672                 290634785   \n",
       "2883                  919149              360265                 290995050   \n",
       "2884                  876989              347393                 291342443   \n",
       "2885                  822010              337959                 291680402   \n",
       "2886                  747265              300091                 291980493   \n",
       "2887                  652049              265735                 292246228   \n",
       "2888                  592041              235045                 292481273   \n",
       "2889                  670839              273623                 292754896   \n",
       "2890                  737398              303725                 293058621   \n",
       "2891                  768381              315771                 293374392   \n",
       "2892                  744189              309495                 293683887   \n",
       "2893                  578406              243619                 293927506   \n",
       "2894                  559711              240611                 294168117   \n",
       "2895                  522861              215622                 294383739   \n",
       "2896                  574420              245562                 294629301   \n",
       "2897                  547568              271936                 294901237   \n",
       "2898                  576212              250423                 295151660   \n",
       "2899                  539581              236580                 295388240   \n",
       "2900                  514621              220459                 295608699   \n",
       "2901                  541699              193578                 295802277   \n",
       "2902                  492738              213446                 296015723   \n",
       "2903                  532630              232176                 296247899   \n",
       "2904                  531440              236609                 296484508   \n",
       "2905                  481100              204276                 296688784   \n",
       "\n",
       "      btc_n_transactions_excluding_popular  \\\n",
       "0                                      244   \n",
       "1                                      235   \n",
       "2                                      183   \n",
       "3                                      224   \n",
       "4                                      218   \n",
       "5                                      261   \n",
       "6                                      252   \n",
       "7                                      196   \n",
       "8                                      150   \n",
       "9                                      176   \n",
       "10                                     176   \n",
       "11                                     165   \n",
       "12                                     187   \n",
       "13                                     204   \n",
       "14                                     151   \n",
       "15                                     187   \n",
       "16                                     178   \n",
       "17                                     188   \n",
       "18                                     178   \n",
       "19                                     141   \n",
       "20                                     149   \n",
       "21                                     152   \n",
       "22                                     154   \n",
       "23                                     119   \n",
       "24                                     160   \n",
       "25                                     127   \n",
       "26                                     128   \n",
       "27                                     138   \n",
       "28                                     127   \n",
       "29                                     161   \n",
       "...                                    ...   \n",
       "2876                                324425   \n",
       "2877                                376433   \n",
       "2878                                402643   \n",
       "2879                                322200   \n",
       "2880                                342679   \n",
       "2881                                352796   \n",
       "2882                                329050   \n",
       "2883                                340700   \n",
       "2884                                330491   \n",
       "2885                                322216   \n",
       "2886                                286175   \n",
       "2887                                253379   \n",
       "2888                                224444   \n",
       "2889                                259372   \n",
       "2890                                287366   \n",
       "2891                                300012   \n",
       "2892                                293730   \n",
       "2893                                231462   \n",
       "2894                                230899   \n",
       "2895                                207718   \n",
       "2896                                235003   \n",
       "2897                                232259   \n",
       "2898                                241244   \n",
       "2899                                227471   \n",
       "2900                                214772   \n",
       "2901                                188058   \n",
       "2902                                205967   \n",
       "2903                                225983   \n",
       "2904                                230310   \n",
       "2905                                197264   \n",
       "\n",
       "      btc_n_transactions_excluding_chains_longer_than_100  btc_output_volume  \\\n",
       "0                                                   244            65173.130   \n",
       "1                                                   235            18911.740   \n",
       "2                                                   183             9749.980   \n",
       "3                                                   224            11150.030   \n",
       "4                                                   218            12266.830   \n",
       "5                                                   261            32350.000   \n",
       "6                                                   252            12600.000   \n",
       "7                                                   196            14800.000   \n",
       "8                                                   150             8100.000   \n",
       "9                                                   176            29349.000   \n",
       "10                                                  176             9101.000   \n",
       "11                                                  165            13399.000   \n",
       "12                                                  187            10300.000   \n",
       "13                                                  204            12400.000   \n",
       "14                                                  151             7650.000   \n",
       "15                                                  187            19400.000   \n",
       "16                                                  178            27900.000   \n",
       "17                                                  188            32797.390   \n",
       "18                                                  178            16250.000   \n",
       "19                                                  141            15845.180   \n",
       "20                                                  149            11400.000   \n",
       "21                                                  152             8850.000   \n",
       "22                                                  154            11749.990   \n",
       "23                                                  119             6150.000   \n",
       "24                                                  160             9800.000   \n",
       "25                                                  127             7800.000   \n",
       "26                                                  128             6302.000   \n",
       "27                                                  138             6950.000   \n",
       "28                                                  127             8301.000   \n",
       "29                                                  161             8130.000   \n",
       "...                                                 ...                  ...   \n",
       "2876                                             175840          2536938.596   \n",
       "2877                                             209685          2816884.612   \n",
       "2878                                             205100          2737825.461   \n",
       "2879                                             181631          2921230.734   \n",
       "2880                                             241394          2979615.086   \n",
       "2881                                             162523          2757179.425   \n",
       "2882                                             233898          2520926.892   \n",
       "2883                                             206394          2246011.729   \n",
       "2884                                             194819          2162979.761   \n",
       "2885                                             204041          1858450.481   \n",
       "2886                                             191086          1779515.718   \n",
       "2887                                             176924          1365097.695   \n",
       "2888                                             154354          1269172.799   \n",
       "2889                                             173183          1497810.168   \n",
       "2890                                             174727          2889286.589   \n",
       "2891                                             196755          2469526.194   \n",
       "2892                                             184028          2156724.201   \n",
       "2893                                             152039          1953499.509   \n",
       "2894                                             166380          1460377.700   \n",
       "2895                                             152188          1108525.071   \n",
       "2896                                             160630          1525531.996   \n",
       "2897                                             165118          1539514.460   \n",
       "2898                                             162151          1502763.714   \n",
       "2899                                             163043          1357490.317   \n",
       "2900                                             142735          1702177.389   \n",
       "2901                                             126082          1363301.068   \n",
       "2902                                             137919          3128906.096   \n",
       "2903                                             155772          1941048.853   \n",
       "2904                                             158259          2359671.266   \n",
       "2905                                             141543          1785708.486   \n",
       "\n",
       "      btc_estimated_transaction_volume  btc_estimated_transaction_volume_usd  \n",
       "0                           36500.0000                          0.000000e+00  \n",
       "1                            7413.0000                          0.000000e+00  \n",
       "2                             700.0000                          0.000000e+00  \n",
       "3                              50.0000                          0.000000e+00  \n",
       "4                            1553.0000                          0.000000e+00  \n",
       "5                           19551.0000                          0.000000e+00  \n",
       "6                              50.0000                          0.000000e+00  \n",
       "7                            5300.0000                          0.000000e+00  \n",
       "8                             700.0000                          0.000000e+00  \n",
       "9                           13162.0000                          0.000000e+00  \n",
       "10                            450.0000                          0.000000e+00  \n",
       "11                           5250.0000                          0.000000e+00  \n",
       "12                           1000.0000                          0.000000e+00  \n",
       "13                           2600.0000                          0.000000e+00  \n",
       "14                            250.0000                          0.000000e+00  \n",
       "15                          10300.0000                          0.000000e+00  \n",
       "16                          19150.0000                          0.000000e+00  \n",
       "17                          23646.0000                          0.000000e+00  \n",
       "18                           7555.0000                          0.000000e+00  \n",
       "19                           9011.0000                          0.000000e+00  \n",
       "20                           4000.0000                          0.000000e+00  \n",
       "21                           1351.0000                          0.000000e+00  \n",
       "22                           4351.0000                          0.000000e+00  \n",
       "23                            250.0000                          0.000000e+00  \n",
       "24                           1900.0000                          0.000000e+00  \n",
       "25                           1550.0000                          0.000000e+00  \n",
       "26                              7.0000                          0.000000e+00  \n",
       "27                            150.0000                          0.000000e+00  \n",
       "28                           2151.0000                          0.000000e+00  \n",
       "29                            240.0000                          0.000000e+00  \n",
       "...                                ...                                   ...  \n",
       "2876                       234989.0508                          3.526212e+09  \n",
       "2877                       189339.1282                          2.850171e+09  \n",
       "2878                       266691.8355                          4.053544e+09  \n",
       "2879                       300697.1506                          5.164209e+09  \n",
       "2880                       227080.9700                          3.932860e+09  \n",
       "2881                       294130.9777                          4.897714e+09  \n",
       "2882                       264641.9958                          4.040000e+09  \n",
       "2883                       257849.8220                          3.794068e+09  \n",
       "2884                       259905.1071                          3.931428e+09  \n",
       "2885                       270807.5084                          3.600872e+09  \n",
       "2886                       234452.1164                          3.261905e+09  \n",
       "2887                       180298.6834                          2.614290e+09  \n",
       "2888                       193346.2866                          2.678411e+09  \n",
       "2889                       201862.4741                          2.828537e+09  \n",
       "2890                       270270.0133                          3.021889e+09  \n",
       "2891                       252411.0863                          2.806041e+09  \n",
       "2892                       238995.6935                          2.711507e+09  \n",
       "2893                       219156.1179                          2.503298e+09  \n",
       "2894                       208079.3634                          2.694793e+09  \n",
       "2895                       154149.9356                          1.773530e+09  \n",
       "2896                       199105.8877                          2.099491e+09  \n",
       "2897                       178482.5592                          2.003121e+09  \n",
       "2898                       186181.4622                          2.100547e+09  \n",
       "2899                       189321.5447                          2.123135e+09  \n",
       "2900                       257282.1766                          2.822338e+09  \n",
       "2901                       119799.4611                          1.380662e+09  \n",
       "2902                       163590.5694                          1.924759e+09  \n",
       "2903                       160557.7065                          1.800278e+09  \n",
       "2904                       172755.8071                          1.759356e+09  \n",
       "2905                       159867.3306                          1.618659e+09  \n",
       "\n",
       "[2906 rows x 24 columns]>"
      ]
     },
     "execution_count": 9,
     "metadata": {},
     "output_type": "execute_result"
    }
   ],
   "source": [
    "data.describe"
   ]
  },
  {
   "cell_type": "code",
   "execution_count": 10,
   "metadata": {
    "scrolled": false
   },
   "outputs": [
    {
     "data": {
      "text/plain": [
       "<bound method NDFrame.describe of               Date  btc_total_bitcoins  btc_market_cap  btc_trade_volume  \\\n",
       "0    2/1/2018 0:00          16839687.5    1.529590e+11      1.509688e+09   \n",
       "1    2/2/2018 0:00          16841787.5    1.499240e+11      2.213437e+09   \n",
       "2    2/3/2018 0:00          16843762.5    1.528850e+11      9.524038e+08   \n",
       "3    2/4/2018 0:00          16845987.5    1.415170e+11      1.080683e+09   \n",
       "4    2/5/2018 0:00          16848300.0    1.152220e+11      1.793319e+09   \n",
       "5    2/6/2018 0:00          16850425.0    1.295060e+11      3.094258e+09   \n",
       "6    2/7/2018 0:00          16852187.5    1.365020e+11      1.670288e+09   \n",
       "7    2/8/2018 0:00          16853825.0    1.388850e+11      1.336662e+09   \n",
       "8    2/9/2018 0:00          16855512.5    1.438710e+11      1.093135e+09   \n",
       "9   2/10/2018 0:00          16857300.0    1.402510e+11      9.185402e+08   \n",
       "10  2/11/2018 0:00          16859187.5    1.406640e+11      7.963917e+08   \n",
       "11  2/12/2018 0:00          16861262.5    1.485700e+11      8.366237e+08   \n",
       "12  2/13/2018 0:00          16863312.5    1.449870e+11      1.884544e+08   \n",
       "13  2/14/2018 0:00          16865550.0    1.574340e+11      9.151655e+08   \n",
       "\n",
       "    btc_blocks_size  btc_avg_block_size  btc_n_orphaned_blocks  \\\n",
       "0       154613.2244            1.053963                      0   \n",
       "1       154785.0008            1.022479                      0   \n",
       "2       154942.4583            0.996567                      0   \n",
       "3       155118.7652            0.990488                      0   \n",
       "4       155322.7709            1.102733                      0   \n",
       "5       155504.2500            1.067524                      0   \n",
       "6       155655.3629            1.071722                      0   \n",
       "7       155792.6909            1.048305                      0   \n",
       "8       155937.9769            1.076193                      0   \n",
       "9       156085.9522            1.034792                      0   \n",
       "10      156237.9970            1.006919                      0   \n",
       "11      156410.8514            1.041292                      0   \n",
       "12      156580.2562            1.032956                      0   \n",
       "13      156762.0906            1.015835                      0   \n",
       "\n",
       "    btc_n_transactions_per_block  btc_median_confirmation_time  btc_hash_rate  \\\n",
       "0                    1610.400000                     12.475000    20703947.91   \n",
       "1                    1404.273810                     11.225000    21739145.31   \n",
       "2                    1233.487342                     10.475000    20445148.56   \n",
       "3                     975.769663                      9.275000    23033142.05   \n",
       "4                    1169.529730                      6.133333    23938939.78   \n",
       "5                    1436.000000                      7.433333    24293141.32   \n",
       "6                    1515.737589                      8.866667    20149017.21   \n",
       "7                    1322.816794                     13.675000    18720008.90   \n",
       "8                    1317.481481                     12.200000    19291612.22   \n",
       "9                    1271.209790                      9.450000    20434818.87   \n",
       "10                    974.887417                      7.533333    21578025.52   \n",
       "11                   1126.012048                     10.200000    23721537.99   \n",
       "12                   1115.756098                     11.050000    23435736.33   \n",
       "13                   1097.301676                     10.225000    25579248.80   \n",
       "\n",
       "                    ...                   btc_cost_per_transaction_percent  \\\n",
       "0                   ...                                           0.799509   \n",
       "1                   ...                                           0.717894   \n",
       "2                   ...                                           1.290914   \n",
       "3                   ...                                           1.208997   \n",
       "4                   ...                                           0.967008   \n",
       "5                   ...                                           0.800015   \n",
       "6                   ...                                           0.905838   \n",
       "7                   ...                                           0.805963   \n",
       "8                   ...                                           0.890279   \n",
       "9                   ...                                           1.614559   \n",
       "10                  ...                                           2.272316   \n",
       "11                  ...                                           1.184872   \n",
       "12                  ...                                           1.441899   \n",
       "13                  ...                                           1.553881   \n",
       "\n",
       "    btc_cost_per_transaction  btc_n_unique_addresses  btc_n_transactions  \\\n",
       "0                  78.049647                  591550              257664   \n",
       "1                  89.591902                  551198              235918   \n",
       "2                  98.824757                  436196              194891   \n",
       "3                 112.999677                  396694              173687   \n",
       "4                  78.586115                  486553              216363   \n",
       "5                  72.073119                  589896              244120   \n",
       "6                  71.480272                  489402              213719   \n",
       "7                  82.053232                  398607              173289   \n",
       "8                  85.223878                  462086              177860   \n",
       "9                  85.874632                  421547              181783   \n",
       "10                110.491753                  368624              147208   \n",
       "11                101.114203                  437380              186918   \n",
       "12                 99.544224                  414749              182984   \n",
       "13                109.366318                  450367              196417   \n",
       "\n",
       "    btc_n_transactions_total  btc_n_transactions_excluding_popular  \\\n",
       "0                  296946448                                249466   \n",
       "1                  297182366                                229894   \n",
       "2                  297377257                                184856   \n",
       "3                  297550944                                165753   \n",
       "4                  297767307                                208757   \n",
       "5                  298011427                                238351   \n",
       "6                  298225146                                205988   \n",
       "7                  298398435                                166517   \n",
       "8                  298576295                                173698   \n",
       "9                  298758078                                177603   \n",
       "10                 298905286                                144165   \n",
       "11                 299092204                                183345   \n",
       "12                 299275188                                179616   \n",
       "13                 299471605                                192621   \n",
       "\n",
       "    btc_n_transactions_excluding_chains_longer_than_100  btc_output_volume  \\\n",
       "0                                              179686         2.190613e+06   \n",
       "1                                              155128         1.460796e+06   \n",
       "2                                              131568         9.100425e+05   \n",
       "3                                              125143         9.722485e+05   \n",
       "4                                              144850         1.848913e+06   \n",
       "5                                              164738         1.914333e+06   \n",
       "6                                              144287         1.160112e+06   \n",
       "7                                              126556         1.171510e+06   \n",
       "8                                              131499         1.144163e+06   \n",
       "9                                              133091         1.537986e+06   \n",
       "10                                             108927         1.398605e+06   \n",
       "11                                             133062         1.674742e+06   \n",
       "12                                             128687         1.315763e+06   \n",
       "13                                             140594         1.557017e+06   \n",
       "\n",
       "    btc_estimated_transaction_volume  btc_estimated_transaction_volume_usd  \n",
       "0                       276923.32070                          2.515366e+09  \n",
       "1                       330740.21920                          2.944217e+09  \n",
       "2                       164374.02440                          1.491970e+09  \n",
       "3                       193244.21400                          1.623377e+09  \n",
       "4                       257109.29930                          1.758323e+09  \n",
       "5                       286153.34030                          2.199270e+09  \n",
       "6                       208207.33170                          1.686471e+09  \n",
       "7                       214089.82690                          1.764215e+09  \n",
       "8                       199472.83090                          1.702604e+09  \n",
       "9                       116211.04860                          9.668616e+08  \n",
       "10                       85791.95132                          7.158013e+08  \n",
       "11                      181029.65410                          1.595114e+09  \n",
       "12                      146929.34580                          1.263264e+09  \n",
       "13                      148097.50310                          1.382436e+09  \n",
       "\n",
       "[14 rows x 23 columns]>"
      ]
     },
     "execution_count": 10,
     "metadata": {},
     "output_type": "execute_result"
    }
   ],
   "source": [
    "test.describe"
   ]
  },
  {
   "cell_type": "markdown",
   "metadata": {},
   "source": [
    "# Assign the target variable and input variables\n",
    "Use Market price for the target variable and others as input varialbes"
   ]
  },
  {
   "cell_type": "code",
   "execution_count": 3,
   "metadata": {
    "scrolled": true
   },
   "outputs": [],
   "source": [
    "X = data.drop(['Date', 'btc_market_price'], axis = 1)\n",
    "y = data['btc_market_price']\n"
   ]
  },
  {
   "cell_type": "code",
   "execution_count": 91,
   "metadata": {},
   "outputs": [
    {
     "data": {
      "text/plain": [
       "btc_total_bitcoins                                     float64\n",
       "btc_market_cap                                         float64\n",
       "btc_trade_volume                                       float64\n",
       "btc_blocks_size                                        float64\n",
       "btc_avg_block_size                                     float64\n",
       "btc_n_orphaned_blocks                                    int64\n",
       "btc_n_transactions_per_block                           float64\n",
       "btc_median_confirmation_time                           float64\n",
       "btc_hash_rate                                          float64\n",
       "btc_difficulty                                         float64\n",
       "btc_miners_revenue                                     float64\n",
       "btc_transaction_fees                                   float64\n",
       "btc_cost_per_transaction_percent                       float64\n",
       "btc_cost_per_transaction                               float64\n",
       "btc_n_unique_addresses                                   int64\n",
       "btc_n_transactions                                       int64\n",
       "btc_n_transactions_total                                 int64\n",
       "btc_n_transactions_excluding_popular                     int64\n",
       "btc_n_transactions_excluding_chains_longer_than_100      int64\n",
       "btc_output_volume                                      float64\n",
       "btc_estimated_transaction_volume                       float64\n",
       "btc_estimated_transaction_volume_usd                   float64\n",
       "dtype: object"
      ]
     },
     "execution_count": 91,
     "metadata": {},
     "output_type": "execute_result"
    }
   ],
   "source": [
    "X.dtypes"
   ]
  },
  {
   "cell_type": "code",
   "execution_count": 40,
   "metadata": {},
   "outputs": [
    {
     "data": {
      "text/plain": [
       "dtype('float64')"
      ]
     },
     "execution_count": 40,
     "metadata": {},
     "output_type": "execute_result"
    }
   ],
   "source": [
    "y.dtypes"
   ]
  },
  {
   "cell_type": "markdown",
   "metadata": {},
   "source": [
    "#### Confirm the trend of data by putting x as time and y as price using matplotlib"
   ]
  },
  {
   "cell_type": "code",
   "execution_count": 41,
   "metadata": {},
   "outputs": [
    {
     "data": {
      "image/png": "[encoded data removed]",
      "text/plain": [
       "<matplotlib.figure.Figure at 0x2a186b48a58>"
      ]
     },
     "metadata": {},
     "output_type": "display_data"
    }
   ],
   "source": [
    "import matplotlib.pyplot as plt\n",
    "plt.plot(X.index,y)\n",
    "plt.show()"
   ]
  },
  {
   "cell_type": "markdown",
   "metadata": {},
   "source": [
    "# Check if it has any missing data\n",
    "We found out that there is some missing data in the data set"
   ]
  },
  {
   "cell_type": "code",
   "execution_count": 42,
   "metadata": {},
   "outputs": [
    {
     "data": {
      "text/plain": [
       "btc_total_bitcoins                                      True\n",
       "btc_market_cap                                         False\n",
       "btc_trade_volume                                        True\n",
       "btc_blocks_size                                         True\n",
       "btc_avg_block_size                                     False\n",
       "btc_n_orphaned_blocks                                  False\n",
       "btc_n_transactions_per_block                           False\n",
       "btc_median_confirmation_time                            True\n",
       "btc_hash_rate                                          False\n",
       "btc_difficulty                                          True\n",
       "btc_miners_revenue                                     False\n",
       "btc_transaction_fees                                    True\n",
       "btc_cost_per_transaction_percent                       False\n",
       "btc_cost_per_transaction                               False\n",
       "btc_n_unique_addresses                                 False\n",
       "btc_n_transactions                                     False\n",
       "btc_n_transactions_total                               False\n",
       "btc_n_transactions_excluding_popular                   False\n",
       "btc_n_transactions_excluding_chains_longer_than_100    False\n",
       "btc_output_volume                                      False\n",
       "btc_estimated_transaction_volume                       False\n",
       "btc_estimated_transaction_volume_usd                   False\n",
       "dtype: bool"
      ]
     },
     "execution_count": 42,
     "metadata": {},
     "output_type": "execute_result"
    }
   ],
   "source": [
    "np.isnan(X).any()"
   ]
  },
  {
   "cell_type": "code",
   "execution_count": 43,
   "metadata": {},
   "outputs": [
    {
     "data": {
      "text/plain": [
       "False"
      ]
     },
     "execution_count": 43,
     "metadata": {},
     "output_type": "execute_result"
    }
   ],
   "source": [
    "np.isnan(y).any()"
   ]
  },
  {
   "cell_type": "markdown",
   "metadata": {},
   "source": [
    "## There are many ways to handle missing data.\n",
    "\n",
    "### Fill all missing data using the pad method which will put privious row's value if privious row is not null value for the null value. \n",
    "\n",
    "#### In this dataset, the pad is good way to fill the null value. When I put mean as null values, it increased the error."
   ]
  },
  {
   "cell_type": "code",
   "execution_count": 4,
   "metadata": {},
   "outputs": [],
   "source": [
    "X = X.fillna(method = 'pad')\n",
    "y = y.fillna(method = 'pad')"
   ]
  },
  {
   "cell_type": "markdown",
   "metadata": {},
   "source": [
    "#### Check if it still has any null value "
   ]
  },
  {
   "cell_type": "code",
   "execution_count": 45,
   "metadata": {},
   "outputs": [
    {
     "data": {
      "text/plain": [
       "btc_total_bitcoins                                     False\n",
       "btc_market_cap                                         False\n",
       "btc_trade_volume                                       False\n",
       "btc_blocks_size                                        False\n",
       "btc_avg_block_size                                     False\n",
       "btc_n_orphaned_blocks                                  False\n",
       "btc_n_transactions_per_block                           False\n",
       "btc_median_confirmation_time                           False\n",
       "btc_hash_rate                                          False\n",
       "btc_difficulty                                         False\n",
       "btc_miners_revenue                                     False\n",
       "btc_transaction_fees                                   False\n",
       "btc_cost_per_transaction_percent                       False\n",
       "btc_cost_per_transaction                               False\n",
       "btc_n_unique_addresses                                 False\n",
       "btc_n_transactions                                     False\n",
       "btc_n_transactions_total                               False\n",
       "btc_n_transactions_excluding_popular                   False\n",
       "btc_n_transactions_excluding_chains_longer_than_100    False\n",
       "btc_output_volume                                      False\n",
       "btc_estimated_transaction_volume                       False\n",
       "btc_estimated_transaction_volume_usd                   False\n",
       "dtype: bool"
      ]
     },
     "execution_count": 45,
     "metadata": {},
     "output_type": "execute_result"
    }
   ],
   "source": [
    "np.isnan(X).any()"
   ]
  },
  {
   "cell_type": "markdown",
   "metadata": {},
   "source": [
    "# Import package for spliting the dataset\n",
    "Split the bitcoin dataset into train and test."
   ]
  },
  {
   "cell_type": "code",
   "execution_count": 5,
   "metadata": {},
   "outputs": [],
   "source": [
    "from sklearn.model_selection import train_test_split\n",
    "\n",
    "X_train, X_test, y_train, y_test = train_test_split(X,y, random_state = 0)"
   ]
  },
  {
   "cell_type": "markdown",
   "metadata": {},
   "source": [
    "# Import package to do scaling"
   ]
  },
  {
   "cell_type": "markdown",
   "metadata": {},
   "source": [
    "#### I used the MinMaxscaler to do the scaling because the data can be scaled to a fixed range\n",
    "#### which will make the smaller standard deviations, so it can decrease the impact of outliers."
   ]
  },
  {
   "cell_type": "code",
   "execution_count": 19,
   "metadata": {},
   "outputs": [],
   "source": [
    "from sklearn.preprocessing import MinMaxScaler\n",
    "\n",
    "scaler = MinMaxScaler()\n",
    "X_train_a = scaler.fit_transform(X_train)\n",
    "X_test_a = scaler.transform(X_test)\n"
   ]
  },
  {
   "cell_type": "markdown",
   "metadata": {},
   "source": [
    "# Regression Model\n",
    "## Try different models to find the best regression processor.\n",
    "\n",
    "## K-Nearest Neighbors"
   ]
  },
  {
   "cell_type": "markdown",
   "metadata": {},
   "source": [
    "### Regression\n",
    "I used the for loop to find the best number of neighbors for building a predict model. It is better to use the lower neighbor with the highest R-squared. Therefore, I selected 6 as the neighbor which has the highest R-square and does not make the a model under-fitted or over-fitted model."
   ]
  },
  {
   "cell_type": "code",
   "execution_count": 14,
   "metadata": {},
   "outputs": [
    {
     "name": "stdout",
     "output_type": "stream",
     "text": [
      "R-squared test score: 0.993942 % for n_neighbors: 1\n",
      "R-squared test score: 0.993332 % for n_neighbors: 2\n",
      "R-squared test score: 0.992909 % for n_neighbors: 3\n",
      "R-squared test score: 0.992501 % for n_neighbors: 4\n",
      "R-squared test score: 0.991955 % for n_neighbors: 5\n",
      "R-squared test score: 0.992041 % for n_neighbors: 6\n",
      "R-squared test score: 0.991382 % for n_neighbors: 7\n",
      "R-squared test score: 0.992122 % for n_neighbors: 8\n",
      "R-squared test score: 0.992457 % for n_neighbors: 9\n",
      "R-squared test score: 0.992621 % for n_neighbors: 10\n",
      "R-squared test score: 0.992150 % for n_neighbors: 11\n",
      "R-squared test score: 0.991905 % for n_neighbors: 12\n",
      "R-squared test score: 0.991382 % for n_neighbors: 13\n",
      "R-squared test score: 0.991274 % for n_neighbors: 14\n",
      "R-squared test score: 0.991651 % for n_neighbors: 15\n",
      "R-squared test score: 0.990829 % for n_neighbors: 16\n",
      "R-squared test score: 0.990714 % for n_neighbors: 17\n",
      "R-squared test score: 0.990125 % for n_neighbors: 18\n",
      "R-squared test score: 0.989351 % for n_neighbors: 19\n"
     ]
    }
   ],
   "source": [
    "from sklearn.neighbors import KNeighborsRegressor\n",
    "for n_neighbors in range(1,20):\n",
    "    knnreg = KNeighborsRegressor(n_neighbors=n_neighbors).fit(X_train_a, y_train)\n",
    "    y_pred = knnreg.predict(X_train_a)\n",
    "    print ('R-squared test score: {:.6f}'.format(knnreg.score(X_test_a, y_test)),\"% for n_neighbors:\",n_neighbors)"
   ]
  },
  {
   "cell_type": "code",
   "execution_count": 15,
   "metadata": {},
   "outputs": [
    {
     "name": "stdout",
     "output_type": "stream",
     "text": [
      "R-squared test score: 0.992041\n"
     ]
    }
   ],
   "source": [
    "knnreg = KNeighborsRegressor(n_neighbors = 6).fit(X_train_a, y_train)\n",
    "\n",
    "#print(knnreg.predict(X_test_a))\n",
    "print('R-squared test score: {:.6f}'\n",
    "     .format(knnreg.score(X_test_a, y_test)))"
   ]
  },
  {
   "cell_type": "code",
   "execution_count": 24,
   "metadata": {
    "scrolled": true
   },
   "outputs": [
    {
     "name": "stdout",
     "output_type": "stream",
     "text": [
      "[ 0.76984724  0.9697896  -0.72883292 -0.03284668 -0.42850451]\n",
      "Average cross-validation scroe: 0.109891\n"
     ]
    }
   ],
   "source": [
    "from sklearn.model_selection import cross_val_score\n",
    "\n",
    "knnreg = KNeighborsRegressor(n_neighbors = 6)\n",
    "scores = cross_val_score(knnreg, X, y, cv = 5)\n",
    "print(scores)\n",
    "print(\"Average cross-validation scroe: {:.6f}\".format(scores.mean()))"
   ]
  },
  {
   "cell_type": "markdown",
   "metadata": {},
   "source": [
    "## Linear Regression\n"
   ]
  },
  {
   "cell_type": "code",
   "execution_count": 19,
   "metadata": {},
   "outputs": [
    {
     "name": "stdout",
     "output_type": "stream",
     "text": [
      "0.99995764035\n",
      "0.999958082859\n"
     ]
    }
   ],
   "source": [
    "from sklearn.linear_model import LinearRegression\n",
    "\n",
    "lr = LinearRegression()\n",
    "lr.fit(X_train_a, y_train)\n",
    "y_predict = lr.predict(X_train_a)\n",
    "print(lr.score(X_train_a , y_train))\n",
    "print(lr.score(X_test_a , y_test))"
   ]
  },
  {
   "cell_type": "code",
   "execution_count": 21,
   "metadata": {},
   "outputs": [
    {
     "name": "stdout",
     "output_type": "stream",
     "text": [
      "0.999957871041\n",
      "0.999957871041\n"
     ]
    }
   ],
   "source": [
    "from sklearn.linear_model import LinearRegression\n",
    "\n",
    "lr = LinearRegression()\n",
    "lr.fit(X, y)\n",
    "y_predict = lr.predict(X)\n",
    "print(lr.score(X , y))\n",
    "print(lr.score(X , y))"
   ]
  },
  {
   "cell_type": "markdown",
   "metadata": {},
   "source": [
    "## Cross validation for Linear model"
   ]
  },
  {
   "cell_type": "code",
   "execution_count": 18,
   "metadata": {},
   "outputs": [
    {
     "name": "stdout",
     "output_type": "stream",
     "text": [
      "[ -4.77627655e+06   9.20137670e-01   9.01842332e-01   9.89228952e-01\n",
      "   9.68048667e-01]\n",
      "Average cross-validation scroe: -955254.55\n"
     ]
    }
   ],
   "source": [
    "from sklearn.model_selection import cross_val_score\n",
    "\n",
    "scores = cross_val_score(lr, X, y, cv = 5)\n",
    "print(scores)\n",
    "print(\"Average cross-validation scroe: {:.2f}\".format(scores.mean()))"
   ]
  },
  {
   "cell_type": "markdown",
   "metadata": {},
   "source": [
    "## Ridge\n",
    "Chose the alpha as 30 by using the effect of alpha regularization parameter"
   ]
  },
  {
   "cell_type": "code",
   "execution_count": 28,
   "metadata": {},
   "outputs": [
    {
     "name": "stdout",
     "output_type": "stream",
     "text": [
      "0.996303945762\n",
      "0.996218640346\n"
     ]
    }
   ],
   "source": [
    "from sklearn.linear_model import Ridge\n",
    "\n",
    "ridge = Ridge()\n",
    "ridge.fit(X_train_a, y_train)\n",
    "print(ridge.score(X_train_a, y_train))\n",
    "print(ridge.score(X_test_a, y_test))"
   ]
  },
  {
   "cell_type": "code",
   "execution_count": 29,
   "metadata": {},
   "outputs": [
    {
     "name": "stdout",
     "output_type": "stream",
     "text": [
      "Ridge regression: effect of alpha regularization parameter\n",
      "\n",
      "Alpha = 1.000000\n",
      "num abs(coeff) > 1.0: 22, r-squared training: 0.996304, r-squared test: 0.996219\n",
      "\n",
      "Alpha = 5.000000\n",
      "num abs(coeff) > 1.0: 22, r-squared training: 0.988796, r-squared test: 0.989106\n",
      "\n",
      "Alpha = 10.000000\n",
      "num abs(coeff) > 1.0: 22, r-squared training: 0.981744, r-squared test: 0.982237\n",
      "\n",
      "Alpha = 20.000000\n",
      "num abs(coeff) > 1.0: 22, r-squared training: 0.967460, r-squared test: 0.968119\n",
      "\n",
      "Alpha = 30.000000\n",
      "num abs(coeff) > 1.0: 21, r-squared training: 0.952152, r-squared test: 0.952961\n",
      "\n",
      "Alpha = 50.000000\n",
      "num abs(coeff) > 1.0: 21, r-squared training: 0.920167, r-squared test: 0.921282\n",
      "\n",
      "Alpha = 100.000000\n",
      "num abs(coeff) > 1.0: 22, r-squared training: 0.845188, r-squared test: 0.846833\n",
      "\n"
     ]
    }
   ],
   "source": [
    "print('Ridge regression: effect of alpha regularization parameter\\n')\n",
    "for this_alpha in [1, 5, 10, 20, 30, 50, 100]:\n",
    "    linridge = Ridge(alpha = this_alpha).fit(X_train_a, y_train)\n",
    "    r2_train = linridge.score(X_train_a, y_train)\n",
    "    r2_test = linridge.score(X_test_a, y_test)\n",
    "    num_coeff_bigger = np.sum(abs(linridge.coef_) > 1.0)\n",
    "    print('Alpha = {:.6f}\\nnum abs(coeff) > 1.0: {}, \\\n",
    "r-squared training: {:.6f}, r-squared test: {:.6f}\\n'\n",
    "         .format(this_alpha, num_coeff_bigger, r2_train, r2_test))"
   ]
  },
  {
   "cell_type": "code",
   "execution_count": 30,
   "metadata": {},
   "outputs": [
    {
     "name": "stdout",
     "output_type": "stream",
     "text": [
      "0.95215163374\n",
      "0.95296120518\n"
     ]
    }
   ],
   "source": [
    "ridge_30 = Ridge(alpha=100).fit(X_train_a, y_train)\n",
    "print(ridge_reg.score(X_train_a, y_train))\n",
    "print(ridge_reg.score(X_test_a, y_test))"
   ]
  },
  {
   "cell_type": "code",
   "execution_count": 31,
   "metadata": {},
   "outputs": [
    {
     "name": "stdout",
     "output_type": "stream",
     "text": [
      "0.95215163374\n",
      "0.95296120518\n"
     ]
    }
   ],
   "source": [
    "ridge_1 = Ridge(alpha=1).fit(X_train_a, y_train)\n",
    "print(ridge_reg.score(X_train_a, y_train))\n",
    "print(ridge_reg.score(X_test_a, y_test))"
   ]
  },
  {
   "cell_type": "code",
   "execution_count": 32,
   "metadata": {},
   "outputs": [
    {
     "data": {
      "text/plain": [
       "<matplotlib.legend.Legend at 0x271e3804d68>"
      ]
     },
     "execution_count": 32,
     "metadata": {},
     "output_type": "execute_result"
    },
    {
     "data": {
      "image/png": "[encoded data removed]",
      "text/plain": [
       "<matplotlib.figure.Figure at 0x271e37ada90>"
      ]
     },
     "metadata": {},
     "output_type": "display_data"
    }
   ],
   "source": [
    "plt.plot(ridge.coef_, 's', label=\"Ridge alpha=1\")\n",
    "plt.plot(ridge_30.coef_, '^', label=\"Ridge alpha=30\")\n",
    "plt.plot(ridge_1.coef_, 'v', label=\"Ridge alpha=1\")\n",
    "plt.plot(lr.coef_, 'o', label=\"LinearRegression\")\n",
    "plt.xlabel(\"Coefficient index\")\n",
    "plt.ylabel(\"Coefficient magnitude\")\n",
    "plt.hlines(0, 0, len(lr.coef_))\n",
    "plt.ylim(-50, 50)\n",
    "plt.legend()"
   ]
  },
  {
   "cell_type": "markdown",
   "metadata": {},
   "source": [
    "## Lasso\n",
    "I chose 0.5 as the alpha because the difference R-squre between training and test is small."
   ]
  },
  {
   "cell_type": "code",
   "execution_count": 33,
   "metadata": {},
   "outputs": [
    {
     "name": "stdout",
     "output_type": "stream",
     "text": [
      "Lasso regression: effect of alpha regularization\n",
      "parameter on number of features kept in final model\n",
      "\n",
      "Alpha = 0.010000\n",
      "Features kept: 21, r-squared training: 0.999932, r-squared test: 0.999929\n",
      "\n",
      "Alpha = 0.500000\n",
      "Features kept: 8, r-squared training: 0.999911, r-squared test: 0.999911\n",
      "\n",
      "Alpha = 1.000000\n",
      "Features kept: 8, r-squared training: 0.999888, r-squared test: 0.999890\n",
      "\n",
      "Alpha = 2.000000\n",
      "Features kept: 4, r-squared training: 0.999826, r-squared test: 0.999820\n",
      "\n",
      "Alpha = 3.000000\n",
      "Features kept: 4, r-squared training: 0.999746, r-squared test: 0.999732\n",
      "\n",
      "Alpha = 5.000000\n",
      "Features kept: 4, r-squared training: 0.999482, r-squared test: 0.999454\n",
      "\n",
      "Alpha = 10.000000\n",
      "Features kept: 4, r-squared training: 0.998241, r-squared test: 0.998179\n",
      "\n",
      "Alpha = 20.000000\n",
      "Features kept: 3, r-squared training: 0.993254, r-squared test: 0.993127\n",
      "\n",
      "Alpha = 50.000000\n",
      "Features kept: 2, r-squared training: 0.958686, r-squared test: 0.958244\n",
      "\n",
      "Alpha = 100.000000\n",
      "Features kept: 2, r-squared training: 0.836098, r-squared test: 0.833871\n",
      "\n"
     ]
    }
   ],
   "source": [
    "from sklearn.linear_model import Lasso\n",
    "\n",
    "print('Lasso regression: effect of alpha regularization\\n\\\n",
    "parameter on number of features kept in final model\\n')\n",
    "\n",
    "for alpha in [0.01, 0.5, 1, 2, 3, 5, 10, 20, 50, 100]:\n",
    "    linlasso = Lasso(alpha, max_iter = 10000).fit(X_train_a, y_train)\n",
    "    r2_train = linlasso.score(X_train_a, y_train)\n",
    "    r2_test = linlasso.score(X_test_a, y_test)\n",
    "    \n",
    "    print('Alpha = {:.6f}\\nFeatures kept: {}, r-squared training: {:.6f}, \\\n",
    "r-squared test: {:.6f}\\n'\n",
    "         .format(alpha, np.sum(linlasso.coef_ != 0), r2_train, r2_test))\n",
    "    "
   ]
  },
  {
   "cell_type": "code",
   "execution_count": 38,
   "metadata": {},
   "outputs": [
    {
     "name": "stdout",
     "output_type": "stream",
     "text": [
      "0.999910628671\n",
      "0.999910960789\n",
      "Number of features used: 8\n"
     ]
    }
   ],
   "source": [
    "lasso_reg = Lasso(alpha=0.5).fit(X_train_a, y_train)\n",
    "print(lasso_reg.score(X_train_a, y_train))\n",
    "print(lasso_reg.score(X_test_a, y_test))\n",
    "print(\"Number of features used: {}\".format(np.sum(lasso_reg.coef_ !=0)))"
   ]
  },
  {
   "cell_type": "code",
   "execution_count": 41,
   "metadata": {},
   "outputs": [],
   "source": [
    "lasso = Lasso(alpha=0.5).fit(X_train_a, y_train)\n",
    "lasso001 = Lasso(alpha=0.001).fit(X_train_a, y_train)\n",
    "lasso00001 = Lasso(alpha=0.00001).fit(X_train_a, y_train)\n",
    "lasso01 = Lasso(alpha=0.01).fit(X_train_a, y_train)"
   ]
  },
  {
   "cell_type": "code",
   "execution_count": 43,
   "metadata": {},
   "outputs": [
    {
     "data": {
      "text/plain": [
       "Text(0,0.5,'Coefficient magnitude')"
      ]
     },
     "execution_count": 43,
     "metadata": {},
     "output_type": "execute_result"
    },
    {
     "data": {
      "image/png": "[encoded data removed]",
      "text/plain": [
       "<matplotlib.figure.Figure at 0x271e34f1160>"
      ]
     },
     "metadata": {},
     "output_type": "display_data"
    }
   ],
   "source": [
    "plt.plot(lasso.coef_, 's', label=\"Lasso alpha=1\")\n",
    "plt.plot(lasso001.coef_, '^', label=\"Lasso alpha=0.01\")\n",
    "plt.plot(lasso00001.coef_, 'v', label=\"Lasso alpha=0.0001\")\n",
    "plt.legend(ncol=2, loc=(0, 1.05))\n",
    "plt.ylim(-25, 25)\n",
    "plt.xlabel(\"Coefficient index\")\n",
    "plt.ylabel(\"Coefficient magnitude\")"
   ]
  },
  {
   "cell_type": "markdown",
   "metadata": {},
   "source": [
    "## Support Vector Machines\n",
    "Use GridSearchCV to find C and epsilon.\n",
    "Best C is 10 and best epsilon is 0.1"
   ]
  },
  {
   "cell_type": "code",
   "execution_count": 63,
   "metadata": {},
   "outputs": [
    {
     "data": {
      "text/plain": [
       "GridSearchCV(cv=5, error_score='raise',\n",
       "       estimator=SVR(C=1.0, cache_size=200, coef0=0.0, degree=3, epsilon=0.1, gamma='auto',\n",
       "  kernel='linear', max_iter=-1, shrinking=True, tol=0.001, verbose=False),\n",
       "       fit_params=None, iid=True, n_jobs=1,\n",
       "       param_grid={'C': [0.01, 0.1, 0.5, 1, 5, 10], 'epsilon': [0.01, 0.1, 0.5, 1, 5, 10]},\n",
       "       pre_dispatch='2*n_jobs', refit=True, return_train_score='warn',\n",
       "       scoring=None, verbose=0)"
      ]
     },
     "execution_count": 63,
     "metadata": {},
     "output_type": "execute_result"
    }
   ],
   "source": [
    "from sklearn.model_selection import GridSearchCV\n",
    "from sklearn.svm import SVR\n",
    "\n",
    "svr = SVR(kernel = 'linear')\n",
    "param_grid = {'C':[0.01, 0.1, 0.5, 1, 5, 10], \n",
    "              'epsilon': [0.01, 0.1, 0.5, 1, 5, 10]}\n",
    "\n",
    "grid_search = GridSearchCV(svr, param_grid, cv = 5)\n",
    "grid_search.fit(X_train_a, y_train)\n"
   ]
  },
  {
   "cell_type": "code",
   "execution_count": 64,
   "metadata": {},
   "outputs": [
    {
     "name": "stdout",
     "output_type": "stream",
     "text": [
      "Best parameters{'C': 10, 'epsilon': 0.1}\n",
      "Best score 0.420828\n"
     ]
    }
   ],
   "source": [
    "print('Best parameters{}'.format(grid_search.best_params_))\n",
    "print('Best score {:.6f}'.format(grid_search.best_score_))"
   ]
  },
  {
   "cell_type": "code",
   "execution_count": 69,
   "metadata": {},
   "outputs": [
    {
     "data": {
      "text/plain": [
       "0.47332881188553277"
      ]
     },
     "execution_count": 69,
     "metadata": {},
     "output_type": "execute_result"
    }
   ],
   "source": [
    "svr = SVR(kernel = 'linear', C = 10, epsilon = 0.1)\n",
    "svr.fit(X_train_a, y_train)\n",
    "svr.score(X_test_a, y_test)"
   ]
  },
  {
   "cell_type": "markdown",
   "metadata": {},
   "source": [
    "## Kerneled SVM\n",
    "I chose C as 100 and gamma as 0.5 for RBF.\n",
    "Also, picked C as 100 and degree as 2 for POLY.\n",
    "\n"
   ]
  },
  {
   "cell_type": "code",
   "execution_count": 66,
   "metadata": {},
   "outputs": [
    {
     "data": {
      "text/plain": [
       "GridSearchCV(cv=5, error_score='raise',\n",
       "       estimator=SVR(C=1.0, cache_size=200, coef0=0.0, degree=3, epsilon=0.1, gamma='auto',\n",
       "  kernel='rbf', max_iter=-1, shrinking=True, tol=0.001, verbose=False),\n",
       "       fit_params=None, iid=True, n_jobs=1,\n",
       "       param_grid={'C': [0.1, 1, 5, 10, 30, 50, 100], 'gamma': [0.01, 0.1, 0.5, 1, 5, 10]},\n",
       "       pre_dispatch='2*n_jobs', refit=True, return_train_score='warn',\n",
       "       scoring=None, verbose=0)"
      ]
     },
     "execution_count": 66,
     "metadata": {},
     "output_type": "execute_result"
    }
   ],
   "source": [
    "from sklearn.model_selection import GridSearchCV\n",
    "from sklearn.svm import SVR\n",
    "\n",
    "svr = SVR(kernel = 'rbf')\n",
    "param_grid = {'C':[0.1, 1, 5, 10, 30, 50, 100], \n",
    "              'gamma': [0.01, 0.1, 0.5, 1, 5, 10]}\n",
    "\n",
    "grid_search = GridSearchCV(svr, param_grid, cv = 5)\n",
    "grid_search.fit(X_train_a, y_train)\n"
   ]
  },
  {
   "cell_type": "code",
   "execution_count": 25,
   "metadata": {},
   "outputs": [
    {
     "name": "stdout",
     "output_type": "stream",
     "text": [
      "Best parameters{'C': 100, 'gamma': 0.5}\n",
      "Best score 0.719640\n"
     ]
    }
   ],
   "source": [
    "print('Best parameters{}'.format(grid_search.best_params_))\n",
    "print('Best score {:.6f}'.format(grid_search.best_score_))"
   ]
  },
  {
   "cell_type": "code",
   "execution_count": 76,
   "metadata": {},
   "outputs": [],
   "source": [
    "svr_rbf = SVR(kernel='rbf', C=100, gamma=0.5)"
   ]
  },
  {
   "cell_type": "code",
   "execution_count": 77,
   "metadata": {},
   "outputs": [
    {
     "data": {
      "text/plain": [
       "0.7777759167396876"
      ]
     },
     "execution_count": 77,
     "metadata": {},
     "output_type": "execute_result"
    }
   ],
   "source": [
    "y_rbf = svr_rbf.fit(X_train_a, y_train).predict(X)\n",
    "svr_rbf.score(X_test_a, y_test)"
   ]
  },
  {
   "cell_type": "code",
   "execution_count": 29,
   "metadata": {},
   "outputs": [
    {
     "data": {
      "text/plain": [
       "GridSearchCV(cv=5, error_score='raise',\n",
       "       estimator=SVR(C=1.0, cache_size=200, coef0=0.0, degree=3, epsilon=0.1, gamma='auto',\n",
       "  kernel='rbf', max_iter=-1, shrinking=True, tol=0.001, verbose=False),\n",
       "       fit_params=None, iid=True, n_jobs=1,\n",
       "       param_grid={'C': [0.1, 1, 5, 10, 30, 50, 100], 'degree': [2, 3, 4, 5]},\n",
       "       pre_dispatch='2*n_jobs', refit=True, return_train_score='warn',\n",
       "       scoring=None, verbose=0)"
      ]
     },
     "execution_count": 29,
     "metadata": {},
     "output_type": "execute_result"
    }
   ],
   "source": [
    "from sklearn.model_selection import GridSearchCV\n",
    "from sklearn.svm import SVR\n",
    "\n",
    "svr = SVR(kernel = 'rbf')\n",
    "param_grid = {'C':[0.1, 1, 5, 10, 30, 50, 100], \n",
    "              'degree': [2, 3, 4, 5]}\n",
    "\n",
    "grid_search = GridSearchCV(svr, param_grid, cv = 5)\n",
    "grid_search.fit(X_train_a, y_train)\n"
   ]
  },
  {
   "cell_type": "code",
   "execution_count": 30,
   "metadata": {},
   "outputs": [
    {
     "name": "stdout",
     "output_type": "stream",
     "text": [
      "Best parameters{'C': 100, 'degree': 2}\n",
      "Best score 0.383862\n"
     ]
    }
   ],
   "source": [
    "print('Best parameters{}'.format(grid_search.best_params_))\n",
    "print('Best score {:.6f}'.format(grid_search.best_score_))"
   ]
  },
  {
   "cell_type": "code",
   "execution_count": 78,
   "metadata": {},
   "outputs": [],
   "source": [
    "svr_poly = SVR(kernel='poly', C=100, degree=2)"
   ]
  },
  {
   "cell_type": "code",
   "execution_count": 79,
   "metadata": {},
   "outputs": [
    {
     "data": {
      "text/plain": [
       "0.25980665818372184"
      ]
     },
     "execution_count": 79,
     "metadata": {},
     "output_type": "execute_result"
    }
   ],
   "source": [
    "y_poly = svr_poly.fit(X_train_a, y_train).predict(X)\n",
    "svr_poly.score(X_test_a, y_test)"
   ]
  },
  {
   "cell_type": "markdown",
   "metadata": {},
   "source": [
    "## Conclusion\n",
    "\n",
    "Based on the result that I got above, I can select the Ridge model as the final model because it is not over-fitting model or under-fitting model. Also, its accuracy is high enough. However, the accuracy is a little bit higher than I expected, thus I need to put more effort on it to get a better model."
   ]
  },
  {
   "cell_type": "markdown",
   "metadata": {},
   "source": [
    "## Predict the Bitcoin price\n",
    "\n",
    "I will use the test dataset to predict the Bitcoin price using the final model."
   ]
  },
  {
   "cell_type": "markdown",
   "metadata": {},
   "source": [
    "#### Drop the variable and fill in the null value"
   ]
  },
  {
   "cell_type": "code",
   "execution_count": 80,
   "metadata": {},
   "outputs": [],
   "source": [
    "test_X = test.drop(['Date'], axis = 1)"
   ]
  },
  {
   "cell_type": "code",
   "execution_count": 81,
   "metadata": {},
   "outputs": [],
   "source": [
    "test_X_a = test_X.fillna(method = 'pad')"
   ]
  },
  {
   "cell_type": "markdown",
   "metadata": {},
   "source": [
    "#### Use MinMaxScaler to scaling the test data set"
   ]
  },
  {
   "cell_type": "code",
   "execution_count": 82,
   "metadata": {},
   "outputs": [],
   "source": [
    "test_X2 = scaler.transform(test_X_a)"
   ]
  },
  {
   "cell_type": "markdown",
   "metadata": {},
   "source": [
    "### Run the model to predict the price"
   ]
  },
  {
   "cell_type": "code",
   "execution_count": 101,
   "metadata": {},
   "outputs": [
    {
     "name": "stdout",
     "output_type": "stream",
     "text": [
      "[  9880.50089181  10546.93716287   9500.07697421   9925.51746133\n",
      "   9395.6406527   10012.10635768   9182.47259127   9091.20100897\n",
      "   9229.56562968   8973.22931462   9332.42297376   9984.44725209\n",
      "   9577.27232799  10423.5001337 ]\n"
     ]
    }
   ],
   "source": [
    "ridge_reg = Ridge(alpha=30).fit(X_train_a, y_train)\n",
    "y_pred = ridge_reg.predict(test_X2)\n",
    "print(y_pred)"
   ]
  },
  {
   "cell_type": "code",
   "execution_count": null,
   "metadata": {},
   "outputs": [],
   "source": []
  }
 ],
 "metadata": {
  "kernelspec": {
   "display_name": "Python 3",
   "language": "python",
   "name": "python3"
  },
  "language_info": {
   "codemirror_mode": {
    "name": "ipython",
    "version": 3
   },
   "file_extension": ".py",
   "mimetype": "text/x-python",
   "name": "python",
   "nbconvert_exporter": "python",
   "pygments_lexer": "ipython3",
   "version": "3.7.0"
  }
 },
 "nbformat": 4,
 "nbformat_minor": 2
}
